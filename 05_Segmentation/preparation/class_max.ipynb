{
 "cells": [
  {
   "cell_type": "code",
   "execution_count": 72,
   "metadata": {},
   "outputs": [],
   "source": [
    "import torch\n",
    "import torch.nn as nn\n",
    "import numpy as np\n",
    "import matplotlib.pyplot as plt\n",
    "from torchvision.transforms import ToPILImage\n",
    "import random\n",
    "\n",
    "C = 2\n",
    "H = 32\n",
    "W = 32"
   ]
  },
  {
   "cell_type": "code",
   "execution_count": 108,
   "metadata": {},
   "outputs": [],
   "source": [
    "def tensor_to_img(tensor):\n",
    "    return ToPILImage()(tensor)\n",
    "def display(tensor):\n",
    "    image = tensor_to_img(tensor)\n",
    "    plt.imshow(image)\n",
    "    plt.show()\n",
    "    \n",
    "def class_max(tensor):\n",
    "    channels, height, width = tensor.shape\n",
    "    output = torch.zeros(1, height, width)\n",
    "    for row in range(height):\n",
    "        for col in range(width):\n",
    "            max_value = 0\n",
    "            max_channel = None\n",
    "            for channel in range(channels):\n",
    "                current_value = tensor[channel, row, col]\n",
    "                if current_value > max_value:\n",
    "                    max_value = current_value\n",
    "                    max_channel = channel\n",
    "            output[0, row, col] = max_channel\n",
    "    return output\n",
    "\n",
    "def binary_class_max(tensor):\n",
    "    _, height, width = tensor.shape\n",
    "    output = torch.zeros(1, height, width)\n",
    "    for row in range(height):\n",
    "        for col in range(width):\n",
    "            if tensor[0, row, col] > tensor[1, row, col]:\n",
    "                output[0, row, col] = 0\n",
    "            else:\n",
    "                output[0, row, col] = 1\n",
    "    return output\n",
    "\n",
    "sm = nn.Softmax(dim = 0)"
   ]
  },
  {
   "cell_type": "code",
   "execution_count": 110,
   "metadata": {},
   "outputs": [
    {
     "name": "stdout",
     "output_type": "stream",
     "text": [
      "Output:  tensor([[[0., 0., 0.,  ..., 0., 0., 0.],\n",
      "         [1., 1., 0.,  ..., 0., 1., 0.],\n",
      "         [1., 0., 0.,  ..., 0., 0., 0.],\n",
      "         ...,\n",
      "         [0., 0., 1.,  ..., 1., 0., 0.],\n",
      "         [0., 1., 1.,  ..., 0., 1., 0.],\n",
      "         [1., 1., 0.,  ..., 0., 1., 0.]]])\n"
     ]
    },
    {
     "data": {
      "image/png": "[encoded data removed]",
      "text/plain": [
       "<Figure size 432x288 with 1 Axes>"
      ]
     },
     "metadata": {},
     "output_type": "display_data"
    }
   ],
   "source": [
    "t = [[[random.randint(0, 100) for _ in range(H)] for _ in range(W)]  for _ in range(C)]\n",
    "t = torch.Tensor(t)\n",
    "\n",
    "sm_t = sm(t)\n",
    "output = binary_class_max(sm_t)\n",
    "\n",
    "print('Output: ', output)\n",
    "display(output)\n",
    "\n",
    "\n"
   ]
  }
 ],
 "metadata": {
  "kernelspec": {
   "display_name": "Python 3",
   "language": "python",
   "name": "python3"
  },
  "language_info": {
   "codemirror_mode": {
    "name": "ipython",
    "version": 3
   },
   "file_extension": ".py",
   "mimetype": "text/x-python",
   "name": "python",
   "nbconvert_exporter": "python",
   "pygments_lexer": "ipython3",
   "version": "3.6.5"
  }
 },
 "nbformat": 4,
 "nbformat_minor": 2
}
