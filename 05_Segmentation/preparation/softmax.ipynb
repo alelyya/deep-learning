{
 "cells": [
  {
   "cell_type": "code",
   "execution_count": 1,
   "metadata": {},
   "outputs": [],
   "source": [
    "import torch\n",
    "import torch.nn as nn"
   ]
  },
  {
   "cell_type": "code",
   "execution_count": 16,
   "metadata": {},
   "outputs": [
    {
     "name": "stdout",
     "output_type": "stream",
     "text": [
      "Initial tensor([[[1., 2., 3.],\n",
      "         [4., 5., 6.],\n",
      "         [7., 8., 9.]],\n",
      "\n",
      "        [[4., 5., 1.],\n",
      "         [3., 2., 1.],\n",
      "         [0., 4., 5.]]])\n",
      "Softmaxed tensor([[[0.0474, 0.0474, 0.8808],\n",
      "         [0.7311, 0.9526, 0.9933],\n",
      "         [0.9991, 0.9820, 0.9820]],\n",
      "\n",
      "        [[0.9526, 0.9526, 0.1192],\n",
      "         [0.2689, 0.0474, 0.0067],\n",
      "         [0.0009, 0.0180, 0.0180]]])\n"
     ]
    }
   ],
   "source": [
    "sm = nn.Softmax(dim = 0)\n",
    "a = torch.Tensor([[[1,2,3], [4,5,6], [7,8,9]], [[4,5,1], [3,2,1], [0,4,5]]])\n",
    "print(\"Initial\", a)\n",
    "\n",
    "sm_a = sm(a)\n",
    "print(\"Softmaxed\", sm_a)\n"
   ]
  }
 ],
 "metadata": {
  "kernelspec": {
   "display_name": "Python 3",
   "language": "python",
   "name": "python3"
  },
  "language_info": {
   "codemirror_mode": {
    "name": "ipython",
    "version": 3
   },
   "file_extension": ".py",
   "mimetype": "text/x-python",
   "name": "python",
   "nbconvert_exporter": "python",
   "pygments_lexer": "ipython3",
   "version": "3.6.5"
  }
 },
 "nbformat": 4,
 "nbformat_minor": 2
}
