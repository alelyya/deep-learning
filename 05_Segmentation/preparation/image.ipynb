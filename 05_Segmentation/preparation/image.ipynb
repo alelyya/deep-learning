{
 "cells": [
  {
   "cell_type": "code",
   "execution_count": 13,
   "metadata": {},
   "outputs": [],
   "source": [
    "import torch\n",
    "import numpy as np\n",
    "import matplotlib.pyplot as plt\n",
    "from torchvision.transforms import ToPILImage\n",
    "import random"
   ]
  },
  {
   "cell_type": "code",
   "execution_count": 16,
   "metadata": {},
   "outputs": [],
   "source": [
    "def tensor_to_img(tensor):\n",
    "    return ToPILImage()(tensor)\n",
    "def display(tensor):\n",
    "    image = tensor_to_img(tensor)\n",
    "    plt.imshow(image)\n",
    "    plt.show()"
   ]
  },
  {
   "cell_type": "code",
   "execution_count": 17,
   "metadata": {},
   "outputs": [
    {
     "data": {
      "image/png": "[encoded data removed]",
      "text/plain": [
       "<Figure size 432x288 with 1 Axes>"
      ]
     },
     "metadata": {},
     "output_type": "display_data"
    },
    {
     "name": "stdout",
     "output_type": "stream",
     "text": [
      "Displayable:  tensor([[[1., 1., 1.,  ..., 0., 0., 0.],\n",
      "         [0., 1., 0.,  ..., 0., 0., 1.],\n",
      "         [0., 1., 1.,  ..., 0., 1., 0.],\n",
      "         ...,\n",
      "         [0., 0., 1.,  ..., 1., 0., 0.],\n",
      "         [1., 0., 0.,  ..., 1., 1., 1.],\n",
      "         [1., 0., 0.,  ..., 0., 0., 1.]]])\n",
      "Shape displayable:  torch.Size([1, 32, 32])\n"
     ]
    }
   ],
   "source": [
    "l = [[[random.randint(0,1) for _ in range(32)] for _ in range(32)]  for _ in range(1)]\n",
    "l_t = torch.Tensor(l)\n",
    "display(l_t)\n",
    "\n",
    "print('Displayable: ', l_t)\n",
    "print('Shape displayable: ', l_t.shape)"
   ]
  }
 ],
 "metadata": {
  "kernelspec": {
   "display_name": "Python 3",
   "language": "python",
   "name": "python3"
  },
  "language_info": {
   "codemirror_mode": {
    "name": "ipython",
    "version": 3
   },
   "file_extension": ".py",
   "mimetype": "text/x-python",
   "name": "python",
   "nbconvert_exporter": "python",
   "pygments_lexer": "ipython3",
   "version": "3.6.5"
  }
 },
 "nbformat": 4,
 "nbformat_minor": 2
}
