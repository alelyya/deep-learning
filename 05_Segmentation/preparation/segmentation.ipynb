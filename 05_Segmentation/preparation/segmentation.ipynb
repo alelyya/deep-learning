{
 "cells": [
  {
   "cell_type": "code",
   "execution_count": 42,
   "metadata": {},
   "outputs": [],
   "source": [
    "import torch\n",
    "import torch.nn as nn\n",
    "import torchvision\n",
    "import numpy as np\n",
    "import matplotlib.pyplot as plt\n",
    "from torchvision.transforms import ToPILImage, ToTensor\n",
    "import random\n",
    "\n",
    "C = 1\n",
    "H = 32\n",
    "W = 32"
   ]
  },
  {
   "cell_type": "code",
   "execution_count": 43,
   "metadata": {},
   "outputs": [],
   "source": [
    "def tensor_to_img(tensor):\n",
    "    return ToPILImage()(tensor)\n",
    "\n",
    "def img_to_tensor(img):\n",
    "    return ToTensor()(img)\n",
    "\n",
    "def display(tensor):\n",
    "    image = tensor_to_img(tensor)\n",
    "    plt.imshow(image)\n",
    "    plt.show()\n",
    "\n",
    "def binary_separate_classes(tensor):\n",
    "    ones = torch.ones(tensor.shape)\n",
    "    inverted = ones - tensor\n",
    "    return torch.cat((tensor, inverted), dim = 0)"
   ]
  },
  {
   "cell_type": "code",
   "execution_count": 44,
   "metadata": {},
   "outputs": [
    {
     "name": "stdout",
     "output_type": "stream",
     "text": [
      "Tensor: \n"
     ]
    },
    {
     "data": {
      "image/png": "[encoded data removed]",
      "text/plain": [
       "<Figure size 432x288 with 1 Axes>"
      ]
     },
     "metadata": {},
     "output_type": "display_data"
    },
    {
     "name": "stdout",
     "output_type": "stream",
     "text": [
      "tensor([[[1., 1., 1.,  ..., 1., 1., 0.],\n",
      "         [0., 0., 1.,  ..., 0., 1., 0.],\n",
      "         [0., 1., 0.,  ..., 0., 0., 0.],\n",
      "         ...,\n",
      "         [1., 1., 0.,  ..., 0., 0., 0.],\n",
      "         [0., 1., 0.,  ..., 1., 1., 0.],\n",
      "         [1., 1., 0.,  ..., 1., 1., 1.]],\n",
      "\n",
      "        [[0., 0., 0.,  ..., 0., 0., 1.],\n",
      "         [1., 1., 0.,  ..., 1., 0., 1.],\n",
      "         [1., 0., 1.,  ..., 1., 1., 1.],\n",
      "         ...,\n",
      "         [0., 0., 1.,  ..., 1., 1., 1.],\n",
      "         [1., 0., 1.,  ..., 0., 0., 1.],\n",
      "         [0., 0., 1.,  ..., 0., 0., 0.]]])\n"
     ]
    }
   ],
   "source": [
    "t = [[[random.randint(0, 1) for _ in range(H)] for _ in range(W)]  for _ in range(C)]\n",
    "t = torch.Tensor(t)\n",
    "print('Tensor: ')\n",
    "display(t)\n",
    "\n",
    "# 2 канала : [Tensor, Inversed_tensor]\n",
    "bin_ = binary_separate_classes(t)\n",
    "print(bin_)"
   ]
  }
 ],
 "metadata": {
  "kernelspec": {
   "display_name": "Python 3",
   "language": "python",
   "name": "python3"
  },
  "language_info": {
   "codemirror_mode": {
    "name": "ipython",
    "version": 3
   },
   "file_extension": ".py",
   "mimetype": "text/x-python",
   "name": "python",
   "nbconvert_exporter": "python",
   "pygments_lexer": "ipython3",
   "version": "3.6.5"
  }
 },
 "nbformat": 4,
 "nbformat_minor": 2
}
