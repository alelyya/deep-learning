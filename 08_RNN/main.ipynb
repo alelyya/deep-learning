{
 "cells": [
  {
   "cell_type": "code",
   "execution_count": 1,
   "metadata": {},
   "outputs": [],
   "source": [
    "import torch\n",
    "import torch.nn as nn\n",
    "from torch.optim import SGD\n",
    "import matplotlib.pylab as plt\n",
    "import numpy as np"
   ]
  },
  {
   "cell_type": "code",
   "execution_count": 2,
   "metadata": {},
   "outputs": [],
   "source": [
    "class WordDataSet:\n",
    "    def __init__(self, word):\n",
    "        self.chars2idx = {}\n",
    "        self.indexs  = []\n",
    "        for c in word: \n",
    "            if c not in self.chars2idx:\n",
    "                self.chars2idx[c] = len(self.chars2idx)\n",
    "            self.indexs.append(self.chars2idx[c])\n",
    "            \n",
    "        self.vec_size = len(self.chars2idx)\n",
    "        self.seq_len  = len(word)\n",
    "        \n",
    "    def get_one_hot(self, idx):\n",
    "        x = torch.zeros(self.vec_size)\n",
    "        x[idx] = 1\n",
    "        return x\n",
    "    \n",
    "    def __iter__(self):\n",
    "        return zip(self.indexs[:-1], self.indexs[1:])\n",
    "    \n",
    "    def __len__(self):\n",
    "        return self.seq_len\n",
    "    \n",
    "    def get_char_by_id(self, id):\n",
    "        for c, i in self.chars2idx.items():\n",
    "            if id == i: return c\n",
    "        return None"
   ]
  },
  {
   "cell_type": "code",
   "execution_count": 3,
   "metadata": {},
   "outputs": [],
   "source": [
    "def train_network(net, ds, epochs=100, clip_grad=True):\n",
    "    full_loss = []\n",
    "    for epoch in range(epochs):\n",
    "        args = net.initial()\n",
    "        loss = 0\n",
    "        optim.zero_grad()\n",
    "        for sample, next_sample in ds:\n",
    "            x = ds.get_one_hot(sample).unsqueeze(0)\n",
    "            target =  torch.LongTensor([next_sample])\n",
    "            y, *args = net(x, *args)\n",
    "            loss += criterion(y, target)\n",
    "        loss.backward()\n",
    "        full_loss.append(loss)\n",
    "        \n",
    "        if epoch % 10 == 0:\n",
    "            print ('Loss: ', loss.data.item())\n",
    "            if clip_grad: print('Clip gradient: ', torch.nn.utils.clip_grad_norm_(net.parameters(), max_norm=5))\n",
    "        else: \n",
    "            if clip_grad: torch.nn.utils.clip_grad_norm_(net.parameters(), max_norm=1)\n",
    "        \n",
    "        optim.step()\n",
    "    return full_loss"
   ]
  },
  {
   "cell_type": "code",
   "execution_count": 4,
   "metadata": {},
   "outputs": [],
   "source": [
    "def test_network(net, ds, word):\n",
    "    softmax = nn.Softmax(dim=1)\n",
    "    net.eval()\n",
    "    args = net.initial()\n",
    "    \n",
    "    id_ = 0\n",
    "    output = ds.get_char_by_id(id_)\n",
    "    for _ in word[:-1]:\n",
    "        x = ds.get_one_hot(id_).unsqueeze(0)\n",
    "        \n",
    "        y, *args = net(x, *args)\n",
    "        y = softmax(y)\n",
    "        \n",
    "        m, id_ = torch.max(y, 1)\n",
    "        id_ = id_.data[0]\n",
    "        output += ds.get_char_by_id(id_)\n",
    "    \n",
    "    print ('Prediction:\\t' , output)\n",
    "    print(\"Original:\\t\", word)\n",
    "    assert(output == word)"
   ]
  },
  {
   "cell_type": "markdown",
   "metadata": {},
   "source": [
    "## Vanilla RNN\n",
    "$ h_t = \\tanh⁡ (W_{xh} x_t+ W_{hh} h_{t−1}) $  \n",
    "$ y_t = W_{hy} h_t $"
   ]
  },
  {
   "cell_type": "code",
   "execution_count": 5,
   "metadata": {},
   "outputs": [],
   "source": [
    "# Простое тестовое слово\n",
    "simple_word = 'hello'"
   ]
  },
  {
   "cell_type": "code",
   "execution_count": 6,
   "metadata": {},
   "outputs": [],
   "source": [
    "class VanillaRNN(nn.Module):\n",
    "    def __init__(self, in_size=5, hidden_size=3, out_size=5):\n",
    "        super(VanillaRNN, self).__init__()\n",
    "        self.hidden_size = hidden_size\n",
    "        self.Wxh = nn.Linear(in_features=in_size, out_features=hidden_size)\n",
    "        self.Whh = nn.Linear(in_features=hidden_size, out_features=hidden_size)\n",
    "        self.Why = nn.Linear(in_features=hidden_size, out_features=out_size)\n",
    "        self.tanh = nn.Tanh()\n",
    "    \n",
    "    def forward(self, x, prev_hidden):\n",
    "        h = self.tanh(self.Wxh(x) + self.Whh(prev_hidden))\n",
    "        output = self.Why(h)\n",
    "        return output, h\n",
    "    \n",
    "    def initial(self):\n",
    "        return (torch.zeros(self.hidden_size),)"
   ]
  },
  {
   "cell_type": "markdown",
   "metadata": {},
   "source": [
    "### Инициализация переменных "
   ]
  },
  {
   "cell_type": "code",
   "execution_count": 7,
   "metadata": {},
   "outputs": [],
   "source": [
    "dataset = WordDataSet(simple_word)\n",
    "vanilla_net = VanillaRNN(in_size=dataset.vec_size, hidden_size=3, out_size=dataset.vec_size)\n",
    "criterion = nn.CrossEntropyLoss()\n",
    "optim = SGD(vanilla_net.parameters(), lr = 0.1, momentum=0.9)"
   ]
  },
  {
   "cell_type": "code",
   "execution_count": 8,
   "metadata": {},
   "outputs": [
    {
     "name": "stdout",
     "output_type": "stream",
     "text": [
      "Loss:  5.3621368408203125\n",
      "Clip gradient:  2.265845789247495\n",
      "Loss:  2.1965692043304443\n",
      "Clip gradient:  0.6393433539746788\n",
      "Loss:  0.769859790802002\n",
      "Clip gradient:  1.3480317840548823\n",
      "Loss:  0.11998987197875977\n",
      "Clip gradient:  0.19407112835129425\n",
      "Loss:  0.03390073776245117\n",
      "Clip gradient:  0.04462391998827445\n",
      "Loss:  0.017752647399902344\n",
      "Clip gradient:  0.017561234568875303\n",
      "Loss:  0.0129547119140625\n",
      "Clip gradient:  0.01363793241120897\n",
      "Loss:  0.01076364517211914\n",
      "Clip gradient:  0.011126756249104912\n",
      "Loss:  0.009472370147705078\n",
      "Clip gradient:  0.008783586480969502\n",
      "Loss:  0.008614063262939453\n",
      "Clip gradient:  0.007992125975812604\n"
     ]
    }
   ],
   "source": [
    "loss_history = train_network(vanilla_net, dataset)"
   ]
  },
  {
   "cell_type": "code",
   "execution_count": 9,
   "metadata": {},
   "outputs": [
    {
     "data": {
      "text/plain": [
       "<matplotlib.legend.Legend at 0xfb5371198>"
      ]
     },
     "execution_count": 9,
     "metadata": {},
     "output_type": "execute_result"
    },
    {
     "data": {
      "image/png": "[encoded data removed]",
      "text/plain": [
       "<Figure size 432x288 with 1 Axes>"
      ]
     },
     "metadata": {},
     "output_type": "display_data"
    }
   ],
   "source": [
    "plt.grid(True)\n",
    "plt.title('Loss')\n",
    "plt.plot(loss_history, 'g:', label = 'train_loss')\n",
    "plt.legend()"
   ]
  },
  {
   "cell_type": "code",
   "execution_count": 10,
   "metadata": {},
   "outputs": [
    {
     "name": "stdout",
     "output_type": "stream",
     "text": [
      "Prediction:\t hello\n",
      "Original:\t hello\n"
     ]
    }
   ],
   "source": [
    "test_network(vanilla_net, dataset, simple_word)"
   ]
  },
  {
   "cell_type": "markdown",
   "metadata": {},
   "source": [
    "# ДЗ\n",
    "Реализовать LSTM и GRU модули, обучить их предсказывать тестовое слово"
   ]
  },
  {
   "cell_type": "code",
   "execution_count": 11,
   "metadata": {},
   "outputs": [],
   "source": [
    "# Тестовое слово\n",
    "test_word = 'ololoasdasddqweqw123456789'"
   ]
  },
  {
   "cell_type": "markdown",
   "metadata": {},
   "source": [
    "## LSTM\n",
    "\n",
    "$ f_t = \\sigma⁡ (W_{xf} x_t + W_{hf} h_{t−1} + b_{f}) $ - *forget gate*  \n",
    "$ i_t = \\sigma⁡ (W_{xi} x_t + W_{hi} h_{t−1} + b_{i}) $ - *input gate*  \n",
    "$ g_t = \\tanh⁡ (W_{xg} x_t + W_{hg} h_{t−1} + b_{g}) $ - *gate gate*  \n",
    "$ o_t = \\sigma⁡ (W_{xo} x_t + W_{ho} h_{t−1} + b_{o}) $ - *output gate*  \n",
    "$ c_t = f_t \\odot c_{t-1} + i_t \\odot g_t $ - *cell state*   \n",
    "$ h_t = o_t \\odot \\tanh (c_t) $ - *block output*  \n",
    "$ y_t = W_{hy} h_t $"
   ]
  },
  {
   "cell_type": "code",
   "execution_count": 12,
   "metadata": {},
   "outputs": [],
   "source": [
    "class LSTM(nn.Module):\n",
    "    def __init__(self, in_size=5, hidden_size=3, out_size=5):\n",
    "        super(LSTM, self).__init__()\n",
    "        self.hidden_size = hidden_size\n",
    "        self.Wxf = nn.Linear(in_features=in_size, out_features=hidden_size)\n",
    "        self.Whf = nn.Linear(in_features=hidden_size, out_features=hidden_size, bias=True)\n",
    "        self.Wxi = nn.Linear(in_features=in_size, out_features=hidden_size)\n",
    "        self.Whi = nn.Linear(in_features=hidden_size, out_features=hidden_size, bias=True)\n",
    "        self.Wxg = nn.Linear(in_features=in_size, out_features=hidden_size)\n",
    "        self.Whg = nn.Linear(in_features=hidden_size, out_features=hidden_size, bias=True)\n",
    "        self.Wxo = nn.Linear(in_features=in_size, out_features=hidden_size)\n",
    "        self.Who = nn.Linear(in_features=hidden_size, out_features=hidden_size, bias=True)\n",
    "        \n",
    "        self.tanh = nn.Tanh()\n",
    "        self.sigm = nn.Sigmoid()\n",
    "        \n",
    "        self.Why = nn.Linear(in_features=hidden_size, out_features=out_size)\n",
    "    \n",
    "    def forward(self, x, prev_hidden, prev_g):\n",
    "        f = self.sigm(self.Wxf(x) + self.Whf(prev_hidden))\n",
    "        i = self.sigm(self.Wxi(x) + self.Whi(prev_hidden))\n",
    "        g = self.tanh(self.Wxg(x) + self.Whg(prev_hidden))\n",
    "        o = self.sigm(self.Wxo(x) + self.Who(prev_hidden))\n",
    "        \n",
    "        g = f * prev_g + i * g\n",
    "        hidden = o * self.tanh(g)\n",
    "        \n",
    "        output = self.Why(hidden)\n",
    "        return output, hidden, g\n",
    "    \n",
    "    def initial(self):\n",
    "        return (torch.zeros(self.hidden_size), torch.zeros(self.hidden_size))\n"
   ]
  },
  {
   "cell_type": "code",
   "execution_count": 13,
   "metadata": {},
   "outputs": [],
   "source": [
    "dataset = WordDataSet(test_word)\n",
    "lstm_net = LSTM(in_size=dataset.vec_size, hidden_size=10, out_size=dataset.vec_size)\n",
    "criterion = nn.CrossEntropyLoss()\n",
    "optim = SGD(lstm_net.parameters(), lr = 0.1, momentum=0.9)"
   ]
  },
  {
   "cell_type": "code",
   "execution_count": 14,
   "metadata": {
    "scrolled": true
   },
   "outputs": [
    {
     "name": "stdout",
     "output_type": "stream",
     "text": [
      "Loss:  70.98298645019531\n",
      "Clip gradient:  3.2058063768796226\n",
      "Loss:  62.80668258666992\n",
      "Clip gradient:  4.786433909169999\n",
      "Loss:  38.784786224365234\n",
      "Clip gradient:  8.159660477028098\n",
      "Loss:  33.72956085205078\n",
      "Clip gradient:  13.566227584473586\n",
      "Loss:  28.885501861572266\n",
      "Clip gradient:  29.641674756735252\n",
      "Loss:  24.130508422851562\n",
      "Clip gradient:  29.594746524871454\n",
      "Loss:  13.709362030029297\n",
      "Clip gradient:  5.830116637538924\n",
      "Loss:  8.31236457824707\n",
      "Clip gradient:  7.4686383506079705\n",
      "Loss:  4.276544094085693\n",
      "Clip gradient:  3.41266287810801\n",
      "Loss:  1.8467445373535156\n",
      "Clip gradient:  1.750796783306488\n",
      "Loss:  0.6034727096557617\n",
      "Clip gradient:  0.3913752056367196\n",
      "Loss:  0.2565784454345703\n",
      "Clip gradient:  0.12592831552427786\n",
      "Loss:  0.15266895294189453\n",
      "Clip gradient:  0.07212444483269985\n",
      "Loss:  0.11044120788574219\n",
      "Clip gradient:  0.04438419202088581\n",
      "Loss:  0.08944129943847656\n",
      "Clip gradient:  0.03534583982430419\n",
      "Loss:  0.07649040222167969\n",
      "Clip gradient:  0.029783455132729335\n",
      "Loss:  0.06749153137207031\n",
      "Clip gradient:  0.02578591618702991\n",
      "Loss:  0.06066417694091797\n",
      "Clip gradient:  0.02326925833976941\n",
      "Loss:  0.05517005920410156\n",
      "Clip gradient:  0.021223586096506045\n",
      "Loss:  0.05061531066894531\n",
      "Clip gradient:  0.01956264391189989\n"
     ]
    }
   ],
   "source": [
    "loss_history = train_network(lstm_net, dataset, 200)"
   ]
  },
  {
   "cell_type": "code",
   "execution_count": 15,
   "metadata": {},
   "outputs": [
    {
     "data": {
      "text/plain": [
       "<matplotlib.legend.Legend at 0xfb5a29b00>"
      ]
     },
     "execution_count": 15,
     "metadata": {},
     "output_type": "execute_result"
    },
    {
     "data": {
      "image/png": "[encoded data removed]",
      "text/plain": [
       "<Figure size 432x288 with 1 Axes>"
      ]
     },
     "metadata": {},
     "output_type": "display_data"
    }
   ],
   "source": [
    "plt.grid(True)\n",
    "plt.title('Loss')\n",
    "plt.plot(loss_history, 'g:', label = 'train_loss')\n",
    "plt.legend()"
   ]
  },
  {
   "cell_type": "code",
   "execution_count": 16,
   "metadata": {},
   "outputs": [
    {
     "name": "stdout",
     "output_type": "stream",
     "text": [
      "Prediction:\t ololoasdasddqweqw123456789\n",
      "Original:\t ololoasdasddqweqw123456789\n"
     ]
    }
   ],
   "source": [
    "test_network(lstm_net, dataset, test_word)"
   ]
  },
  {
   "cell_type": "markdown",
   "metadata": {},
   "source": [
    "## GRU   \n",
    "$ u_t = \\sigma⁡ (W_{xu} x_t + W_{hu} h_{t−1} + b_{u}) $  \n",
    "$ r_t = \\sigma⁡ (W_{xr} x_t + W_{hr} h_{t−1} + b_{r}) $  \n",
    "$ h'_t = \\tanh⁡ (W_{xh'} x_t + W_{hh'} (r_t \\odot h_{t-1} )) $  \n",
    "$ h_t = (1 - u_t) \\odot h'_t + u_t \\odot h_{t-1} $  \n",
    "$ y_t = W_{hy} h_t $"
   ]
  },
  {
   "cell_type": "code",
   "execution_count": 17,
   "metadata": {},
   "outputs": [],
   "source": [
    "class GRU(nn.Module):\n",
    "    def __init__(self, in_size=5, hidden_size=3, out_size=5):\n",
    "        super(GRU, self).__init__()\n",
    "        self.hidden_size = hidden_size\n",
    "        self.Wxu = nn.Linear(in_features=in_size, out_features=hidden_size)\n",
    "        self.Whu = nn.Linear(in_features=hidden_size, out_features=hidden_size, bias=True)\n",
    "        self.Wxr = nn.Linear(in_features=in_size, out_features=hidden_size)\n",
    "        self.Whr = nn.Linear(in_features=hidden_size, out_features=hidden_size, bias=True)\n",
    "        self.Wxh = nn.Linear(in_features=in_size, out_features=hidden_size)\n",
    "        self.Whh = nn.Linear(in_features=hidden_size, out_features=hidden_size, bias=True)\n",
    "        self.Why = nn.Linear(in_features=hidden_size, out_features=out_size)\n",
    "        self.tanh = nn.Tanh()\n",
    "        self.sigm = nn.Sigmoid()\n",
    "    \n",
    "    def forward(self, x, prev_hidden):\n",
    "        u = self.sigm(self.Wxu(x) + self.Whu(prev_hidden))\n",
    "        r = self.sigm(self.Wxr(x) + self.Whr(prev_hidden))\n",
    "        candidate_h = self.tanh(self.Wxh(x) + self.Whh(r * prev_hidden))\n",
    "        h = (torch.ones_like(u) - u) * candidate_h + u * prev_hidden\n",
    "        \n",
    "        output = self.Why(h)\n",
    "        return output, h\n",
    "    \n",
    "    def initial(self):\n",
    "        return (torch.zeros(self.hidden_size),)\n"
   ]
  },
  {
   "cell_type": "code",
   "execution_count": 18,
   "metadata": {},
   "outputs": [],
   "source": [
    "dataset = WordDataSet(test_word)\n",
    "gru_net = GRU(in_size=dataset.vec_size, hidden_size=10, out_size=dataset.vec_size)\n",
    "criterion = nn.CrossEntropyLoss()\n",
    "optim = SGD(gru_net.parameters(), lr = 0.1, momentum=0.9)"
   ]
  },
  {
   "cell_type": "code",
   "execution_count": 19,
   "metadata": {},
   "outputs": [
    {
     "name": "stdout",
     "output_type": "stream",
     "text": [
      "Loss:  70.7381591796875\n",
      "Clip gradient:  4.713367277392281\n",
      "Loss:  56.71260070800781\n",
      "Clip gradient:  7.2259390217781325\n",
      "Loss:  39.135704040527344\n",
      "Clip gradient:  14.31458116568745\n",
      "Loss:  23.7965145111084\n",
      "Clip gradient:  9.617222173786272\n",
      "Loss:  11.239694595336914\n",
      "Clip gradient:  3.979727431830835\n",
      "Loss:  5.007103443145752\n",
      "Clip gradient:  1.7037074420805796\n",
      "Loss:  2.0927624702453613\n",
      "Clip gradient:  1.64305883764484\n",
      "Loss:  0.4212675094604492\n",
      "Clip gradient:  0.5122676749633359\n",
      "Loss:  0.12691688537597656\n",
      "Clip gradient:  0.10437640800598358\n",
      "Loss:  0.07083415985107422\n",
      "Clip gradient:  0.05658281552115217\n"
     ]
    }
   ],
   "source": [
    "loss_history = train_network(gru_net, dataset)"
   ]
  },
  {
   "cell_type": "code",
   "execution_count": 20,
   "metadata": {},
   "outputs": [
    {
     "data": {
      "text/plain": [
       "<matplotlib.legend.Legend at 0xf9cde0a58>"
      ]
     },
     "execution_count": 20,
     "metadata": {},
     "output_type": "execute_result"
    },
    {
     "data": {
      "image/png": "[encoded data removed]",
      "text/plain": [
       "<Figure size 432x288 with 1 Axes>"
      ]
     },
     "metadata": {},
     "output_type": "display_data"
    }
   ],
   "source": [
    "plt.grid(True)\n",
    "plt.title('Loss')\n",
    "plt.plot(loss_history, 'g:', label = 'train_loss')\n",
    "plt.legend()"
   ]
  },
  {
   "cell_type": "code",
   "execution_count": 21,
   "metadata": {},
   "outputs": [
    {
     "name": "stdout",
     "output_type": "stream",
     "text": [
      "Prediction:\t ololoasdasddqweqw123456789\n",
      "Original:\t ololoasdasddqweqw123456789\n"
     ]
    }
   ],
   "source": [
    "test_network(gru_net, dataset, test_word)"
   ]
  }
 ],
 "metadata": {
  "anaconda-cloud": {},
  "kernelspec": {
   "display_name": "Python 3",
   "language": "python",
   "name": "python3"
  },
  "language_info": {
   "codemirror_mode": {
    "name": "ipython",
    "version": 3
   },
   "file_extension": ".py",
   "mimetype": "text/x-python",
   "name": "python",
   "nbconvert_exporter": "python",
   "pygments_lexer": "ipython3",
   "version": "3.6.5"
  }
 },
 "nbformat": 4,
 "nbformat_minor": 2
}
