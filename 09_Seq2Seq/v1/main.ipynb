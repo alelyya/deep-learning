{
 "cells": [
  {
   "cell_type": "code",
   "execution_count": 1,
   "metadata": {},
   "outputs": [
    {
     "name": "stdout",
     "output_type": "stream",
     "text": [
      "CUDA\n"
     ]
    }
   ],
   "source": [
    "from tqdm import tqdm_notebook\n",
    "from io import open\n",
    "import unicodedata\n",
    "import string\n",
    "import re\n",
    "import random\n",
    "import time\n",
    "import math\n",
    "\n",
    "import matplotlib.pyplot as plt\n",
    "plt.switch_backend('agg')\n",
    "import matplotlib.ticker as ticker\n",
    "import numpy as np\n",
    "\n",
    "import torch\n",
    "import torch.nn as nn\n",
    "from torch import optim\n",
    "import torch.nn.functional as F\n",
    "\n",
    "if torch.cuda.is_available():\n",
    "    print('CUDA')\n",
    "DEVICE_ID = 3\n",
    "device = torch.device((\"cuda:%d\" % DEVICE_ID) if torch.cuda.is_available() else \"cpu\")"
   ]
  },
  {
   "cell_type": "code",
   "execution_count": 2,
   "metadata": {},
   "outputs": [],
   "source": [
    "SOS_token = 0\n",
    "EOS_token = 1\n",
    "\n",
    "class Lang:\n",
    "    def __init__(self, name):\n",
    "        self.name = name\n",
    "        self.word2index = {}\n",
    "        self.word2count = {}\n",
    "        self.index2word = {SOS_token: \"SOS\", EOS_token: \"EOS\"}\n",
    "        self.n_words = len(self.index2word)\n",
    "\n",
    "    def addSentence(self, sentence):\n",
    "        for word in sentence.split(' '):\n",
    "            self.addWord(word)\n",
    "\n",
    "    def addWord(self, word):\n",
    "        if word not in self.word2index:\n",
    "            self.word2index[word] = self.n_words\n",
    "            self.word2count[word] = 1\n",
    "            self.index2word[self.n_words] = word\n",
    "            self.n_words += 1\n",
    "        else:\n",
    "            self.word2count[word] += 1"
   ]
  },
  {
   "cell_type": "code",
   "execution_count": 3,
   "metadata": {},
   "outputs": [
    {
     "name": "stdout",
     "output_type": "stream",
     "text": [
      "она экономически независима от своих родителей .\tshe is economically independent of her parents .\r\n",
      "она направила наши усилия в нужном направлении .\tshe steered our efforts in the right direction .\r\n",
      "на этом заводе производят телевизоры .\tthey are manufacturing tv sets in this factory .\r\n",
      "она всегда жалуется из за моей маленькой зарплаты .\tshe is always complaining about my small salary .\r\n",
      "они стоят там и едят чипсы .\tthey are standing there and eating potato chips .\r\n",
      "мне не удаётся скомпилировать эту программу .\ti m having some problems compiling this software .\r\n",
      "она улыбнулась в ответ на его нежный взгляд .\tshe smiled in response to his affectionate glance .\r\n",
      "она проводит каждое воскресенье со своей бабушкой .\tshe spends time with her grandmother every sunday .\r\n",
      "каждую субботу после обеда она играет в теннис .\tshe spends every saturday afternoon playing tennis .\r\n",
      "после аварии она перестала бывать на людях .\tshe stopped appearing in public after her accident .\r\n"
     ]
    }
   ],
   "source": [
    "!tail rus_eng_small.txt"
   ]
  },
  {
   "cell_type": "code",
   "execution_count": 4,
   "metadata": {},
   "outputs": [],
   "source": [
    "def readLangs():\n",
    "    print(\"Loading dataset...\")\n",
    "    pairs = []\n",
    "    # Read the file and split into lines\n",
    "    with open('rus_eng_small.txt') as f:\n",
    "        for l in tqdm_notebook(f):\n",
    "            pair = [s for s in l.rstrip('\\n').split('\\t')]\n",
    "            pairs.append(pair)\n",
    "\n",
    "    return Lang('rus'), Lang('eng'), pairs"
   ]
  },
  {
   "cell_type": "code",
   "execution_count": 5,
   "metadata": {},
   "outputs": [
    {
     "name": "stdout",
     "output_type": "stream",
     "text": [
      "Loading dataset...\n"
     ]
    },
    {
     "data": {
      "application/vnd.jupyter.widget-view+json": {
       "model_id": "d06fade831654a5c8d38360edf86d0c0",
       "version_major": 2,
       "version_minor": 0
      },
      "text/plain": [
       "HBox(children=(IntProgress(value=1, bar_style='info', max=1), HTML(value='')))"
      ]
     },
     "metadata": {},
     "output_type": "display_data"
    },
    {
     "name": "stdout",
     "output_type": "stream",
     "text": [
      "\n",
      "Read 19288 sentence pairs\n",
      "Counting words...\n",
      "Counted words:\n",
      "rus 8960\n",
      "eng 3914\n",
      "['я ваш врач .', 'i m your doctor .']\n"
     ]
    }
   ],
   "source": [
    "def prepareData():\n",
    "    input_lang, output_lang, pairs = readLangs()\n",
    "    print(\"Read %s sentence pairs\" % len(pairs))\n",
    "    print(\"Counting words...\")\n",
    "    for pair in pairs:\n",
    "        input_lang.addSentence(pair[0])\n",
    "        output_lang.addSentence(pair[1])\n",
    "    print(\"Counted words:\")\n",
    "    print(input_lang.name, input_lang.n_words)\n",
    "    print(output_lang.name, output_lang.n_words)\n",
    "    return input_lang, output_lang, pairs\n",
    "\n",
    "\n",
    "input_lang, output_lang, pairs = prepareData()\n",
    "MAX_LENGTH = 10\n",
    "print(random.choice(pairs))"
   ]
  },
  {
   "cell_type": "code",
   "execution_count": 6,
   "metadata": {},
   "outputs": [],
   "source": [
    "def indexesFromSentence(lang, sentence):\n",
    "    return [lang.word2index[word] for word in sentence.split(' ')]\n",
    "\n",
    "\n",
    "def tensorFromSentence(lang, sentence):\n",
    "    indexes = indexesFromSentence(lang, sentence)\n",
    "    indexes.append(EOS_token)\n",
    "    return torch.tensor(indexes, dtype=torch.long, device=device).view(-1, 1)\n",
    "\n",
    "\n",
    "def tensorsFromPair(pair):\n",
    "    input_tensor = tensorFromSentence(input_lang, pair[0])\n",
    "    target_tensor = tensorFromSentence(output_lang, pair[1])\n",
    "    return (input_tensor, target_tensor)"
   ]
  },
  {
   "cell_type": "code",
   "execution_count": 7,
   "metadata": {},
   "outputs": [],
   "source": [
    "class EncoderRNN(nn.Module):\n",
    "    def __init__(self, input_size, nlayers, hidden_size):\n",
    "        super().__init__()\n",
    "        self.hidden_size = hidden_size\n",
    "        self.nlayers = nlayers\n",
    "\n",
    "        self.embedding = nn.Embedding(input_size, hidden_size)\n",
    "        self.rnn = nn.LSTM(hidden_size, hidden_size, nlayers)\n",
    "\n",
    "    def forward(self, x, hidden):\n",
    "        embedded = self.embedding(x)\n",
    "        output, hidden = self.rnn(embedded, hidden)\n",
    "        return output, hidden\n",
    "\n",
    "    def initHidden(self):\n",
    "        return torch.zeros(self.nlayers, 1, self.hidden_size, device=device), \\\n",
    "               torch.zeros(self.nlayers, 1, self.hidden_size, device=device)"
   ]
  },
  {
   "cell_type": "code",
   "execution_count": 8,
   "metadata": {},
   "outputs": [],
   "source": [
    "def train(input_tensor, target_tensor, \n",
    "          encoder, decoder, \n",
    "          optimizer,  criterion, max_length=MAX_LENGTH):\n",
    "    \n",
    "    encoder_hidden = encoder.initHidden()\n",
    "\n",
    "    optimizer.zero_grad()\n",
    "\n",
    "    input_length = input_tensor.size(0)\n",
    "    target_length = target_tensor.size(0)\n",
    "\n",
    "    loss = 0\n",
    "\n",
    "    encoder_outputs, encoder_hidden = encoder(input_tensor, encoder_hidden)\n",
    "\n",
    "    decoder_input = torch.tensor([[SOS_token]], device=device)\n",
    "\n",
    "    decoder_hidden = encoder_hidden\n",
    "    \n",
    "    if teacher_forcing_ratio == 1.: # use fast parallel mode\n",
    "        decoder_input = torch.cat([decoder_input, target_tensor[:-1]], dim=0)\n",
    "        decoder_outputs, decoder_hidden, decoder_attention = decoder(decoder_input, decoder_hidden, encoder_outputs)\n",
    "        decoder_outputs = decoder_outputs.squeeze()\n",
    "        loss += criterion(decoder_outputs, target_tensor.squeeze())\n",
    "        loss_value = loss.item()\n",
    "    else:\n",
    "        for di in range(target_length):\n",
    "            use_teacher_forcing = True if random.random() < teacher_forcing_ratio else False\n",
    "            decoder_output, decoder_hidden, decoder_attention = decoder(decoder_input, decoder_hidden, encoder_outputs)\n",
    "            decoder_output = decoder_output.view(decoder_output.size(0), -1)\n",
    "            loss += criterion(decoder_output, target_tensor[di])\n",
    "            if use_teacher_forcing:\n",
    "                decoder_input = target_tensor[di].unsqueeze(0)  # Teacher forcing\n",
    "            else:\n",
    "                topv, topi = decoder_output.topk(1)\n",
    "                decoder_input = topi.detach()\n",
    "        loss_value =  loss.item() / target_length\n",
    "\n",
    "    loss.backward()\n",
    "\n",
    "    optimizer.step()\n",
    "\n",
    "    return loss_value"
   ]
  },
  {
   "cell_type": "code",
   "execution_count": 9,
   "metadata": {},
   "outputs": [],
   "source": [
    "def as_minutes(s):\n",
    "    m = math.floor(s / 60)\n",
    "    s -= m * 60\n",
    "    return '%dm %ds' % (m, s)\n",
    "\n",
    "def time_since(since, percent):\n",
    "    now = time.time()\n",
    "    s = now - since\n",
    "    es = s / (percent)\n",
    "    rs = es - s\n",
    "    return '%s (- %s)' % (as_minutes(s), as_minutes(rs))"
   ]
  },
  {
   "cell_type": "code",
   "execution_count": 10,
   "metadata": {},
   "outputs": [],
   "source": [
    "def show_plot(points):\n",
    "    plt.figure()\n",
    "    fig, ax = plt.subplots()\n",
    "    # this locator puts ticks at regular intervals\n",
    "    loc = ticker.MultipleLocator(base=0.2)\n",
    "    ax.yaxis.set_major_locator(loc)\n",
    "    plt.plot(points)"
   ]
  },
  {
   "cell_type": "code",
   "execution_count": 11,
   "metadata": {},
   "outputs": [],
   "source": [
    "def run_training(encoder, decoder, n_iters, print_every=1000, plot_every=100):\n",
    "    print('Train')\n",
    "    start = time.time()\n",
    "    plot_losses = []\n",
    "    print_loss_total = 0  # Reset every print_every\n",
    "    plot_loss_total = 0  # Reset every plot_every\n",
    "\n",
    "    for iter in range(1, n_iters + 1):\n",
    "        training_pair = training_pairs[iter - 1]\n",
    "        input_tensor = training_pair[0]\n",
    "        target_tensor = training_pair[1]\n",
    "\n",
    "        loss = train(input_tensor, target_tensor, encoder, decoder, optimizer, criterion)\n",
    "        print_loss_total += loss\n",
    "        plot_loss_total += loss\n",
    "\n",
    "        if iter % print_every == 0:\n",
    "            print_loss_avg = print_loss_total / print_every\n",
    "            print_loss_total = 0\n",
    "            dt = time_since(start, iter / n_iters)\n",
    "            print('%s (%d %d%%) %.4f' % (dt, iter, iter / n_iters * 100, print_loss_avg))\n",
    "\n",
    "        if iter % plot_every == 0:\n",
    "            plot_loss_avg = plot_loss_total / plot_every\n",
    "            plot_losses.append(plot_loss_avg)\n",
    "            plot_loss_total = 0\n",
    "\n",
    "    show_plot(plot_losses)"
   ]
  },
  {
   "cell_type": "code",
   "execution_count": 12,
   "metadata": {},
   "outputs": [],
   "source": [
    "def evaluate(encoder, decoder, sentence, max_length=MAX_LENGTH):\n",
    "    with torch.no_grad():\n",
    "        input_tensor = tensorFromSentence(input_lang, sentence)\n",
    "        input_length = input_tensor.size()[0]\n",
    "        \n",
    "        encoder_hidden = encoder.initHidden()\n",
    "        encoder_outputs, encoder_hidden = encoder(input_tensor, encoder_hidden)\n",
    "\n",
    "        decoder_input = torch.tensor([[SOS_token]], device=device)\n",
    "        decoder_hidden = encoder_hidden # STATE TRANSFER\n",
    "    \n",
    "        decoded_words = []\n",
    "        decoder_attentions = []\n",
    "        for di in range(max_length):\n",
    "            use_teacher_forcing = True if random.random() < teacher_forcing_ratio else False\n",
    "            decoder_output, decoder_hidden, decoder_attention = decoder(decoder_input, decoder_hidden, encoder_outputs)\n",
    "            decoder_attentions.append(decoder_attention)\n",
    "            decoder_output = decoder_output.view(decoder_output.size(0), -1)\n",
    "            topv, topi = decoder_output.topk(1)\n",
    "            decoder_input = topi.detach()\n",
    "            if topi.item() == EOS_token:\n",
    "                break\n",
    "            word = output_lang.index2word[topi.item()]\n",
    "            decoded_words.append(word)\n",
    "\n",
    "        return decoded_words, decoder_attentions"
   ]
  },
  {
   "cell_type": "code",
   "execution_count": 13,
   "metadata": {},
   "outputs": [],
   "source": [
    "def evaluate_randomly(encoder, decoder, n=10):\n",
    "    for i in range(n):\n",
    "        pair = random.choice(pairs)\n",
    "        print('>', pair[0])\n",
    "        print('=', pair[1])\n",
    "        output_words, attentions = evaluate(encoder, decoder, pair[0])\n",
    "        output_sentence = ' '.join(output_words)\n",
    "        print('<', output_sentence)\n",
    "        print('')"
   ]
  },
  {
   "cell_type": "code",
   "execution_count": 14,
   "metadata": {},
   "outputs": [],
   "source": [
    "def save_state(network, path='state'):\n",
    "    torch.save(network.state_dict(), path)\n",
    "\n",
    "def load_state(class_, args, path):\n",
    "    network = class_(*args)\n",
    "    network.load_state_dict(torch.load(path))\n",
    "    return network"
   ]
  },
  {
   "cell_type": "code",
   "execution_count": 15,
   "metadata": {},
   "outputs": [
    {
     "data": {
      "application/vnd.jupyter.widget-view+json": {
       "model_id": "38c2e38bba984911b952acc0d097de90",
       "version_major": 2,
       "version_minor": 0
      },
      "text/plain": [
       "HBox(children=(IntProgress(value=0, description='prepare set', max=200000), HTML(value='')))"
      ]
     },
     "metadata": {},
     "output_type": "display_data"
    },
    {
     "name": "stdout",
     "output_type": "stream",
     "text": [
      "\n"
     ]
    }
   ],
   "source": [
    "n_iters=200000\n",
    "training_pairs = [tensorsFromPair(random.choice(pairs)) for i in tqdm_notebook(range(n_iters), desc='prepare set')]"
   ]
  },
  {
   "cell_type": "code",
   "execution_count": 16,
   "metadata": {},
   "outputs": [],
   "source": [
    "class AttnDecoder(nn.Module):\n",
    "    def __init__(self, hidden_size, nlayers, output_size, dropout_p=0.1, max_length=MAX_LENGTH):\n",
    "        super().__init__()\n",
    "        self.hidden_size = hidden_size\n",
    "        self.nlayers = nlayers\n",
    "        self.output_size = output_size\n",
    "        self.dropout_p = dropout_p\n",
    "        self.max_length = max_length\n",
    "\n",
    "        self.embedding = nn.Embedding(self.output_size, self.hidden_size)\n",
    "        self.dropout = nn.Dropout(dropout_p)\n",
    "        \n",
    "        self.attn_combine = nn.Linear(self.hidden_size*2, self.hidden_size)\n",
    "        self.rnn = nn.LSTM(self.hidden_size, self.hidden_size, nlayers)\n",
    "        self.out = nn.Linear(self.hidden_size, self.output_size)\n",
    "        \n",
    "        # Attention modules\n",
    "        self.attn = nn.Linear(self.hidden_size * 2, self.hidden_size)\n",
    "        self.v = nn.Linear(self.hidden_size, 1)\n",
    "        nn.init.xavier_normal_(self.attn.weight, gain=nn.init.calculate_gain('tanh'))\n",
    "        nn.init.xavier_normal_(self.v.weight)\n",
    "        \n",
    "        print('Decoder created')\n",
    "        \n",
    "\n",
    "    def forward(self, x, hidden, encoder_outputs):\n",
    "        embedded = self.embedding(x) # [T2,B,C]\n",
    "        embedded = embedded.transpose(0, 1) # [B,T2,C]\n",
    "        encoder_outputs = encoder_outputs.transpose(0, 1) # [B,T1,C]\n",
    "        \n",
    "        if teacher_forcing_ratio != 1.:\n",
    "            attn_weights = []\n",
    "            for _ in range(self.max_length):\n",
    "                energies = self.attention(encoder_outputs, hidden[-2]) # [B,T1,T2]\n",
    "                attn_weights.append(energies)\n",
    "            attn_weights = torch.cat(attn_weights, dim=-1)\n",
    "        else:\n",
    "            # fast parallel mode\n",
    "            attn_weights = self.attention(encoder_outputs, embedded) # [B,T1,T2]\n",
    "            # [B,T2,T1]x[B,T1,C] -> B [T2,T1]x[T1,C] = [B, T2, C]\n",
    "        \n",
    "        context = torch.bmm(attn_weights.transpose(1, -1), encoder_outputs)\n",
    "        output = torch.cat((embedded, context), dim=-1) # [[B,T,C];[B,T,C]] -> [B,T,C*2]\n",
    "        output = self.attn_combine(output).transpose(0,1)\n",
    "        output = F.relu(output)\n",
    "        output, hidden = self.rnn(output, hidden)\n",
    "\n",
    "        logits = self.out(output)\n",
    "        output = F.log_softmax(logits, dim=-1)\n",
    "        return output, hidden, attn_weights\n",
    "            \n",
    "    def attention(self, encoder_outputs, state):\n",
    "        ### [B,T1,C]x[B,C,T2] -> B [T1,C]x[C,T2] = [B,T1,T2]\n",
    "        #embedded_t = state.transpose(1, -1) # [B,C,T2]\n",
    "        #return F.softmax(torch.bmm(encoder_outputs, embedded_t), dim=-2)\n",
    "    \n",
    "        # encoder_outputs = [B,T1,C]; state = [B,T2 (if fast parallel mode) or 1,C]\n",
    "        encoder_outputs = encoder_outputs.transpose(0, 1) # [T1,B,C]\n",
    "        state = state.transpose(0, 1)  # [T2,B,C]\n",
    "        T1 = encoder_outputs.size(0)\n",
    "        T2 = state.size(0)\n",
    "        energies = torch.zeros(1, T1, T2).to(device)\n",
    "        for i in range(T2):\n",
    "            for j in range(T1):\n",
    "                energies[0, j, i] = self.energy(encoder_outputs[j], state[i])\n",
    "        \n",
    "        energies = F.softmax(energies, dim = -2) # [1,T1,T2]\n",
    "        return energies\n",
    "    \n",
    "    \n",
    "    def energy(self, encoder_output, state):\n",
    "        # encoder_output = [B,C]; embedded = [B,C]\n",
    "        c = torch.cat((state, encoder_output), 1) # [B,C*2]\n",
    "        energy = torch.tanh(self.attn(c)) # [B,C]\n",
    "        energy = self.v(energy)\n",
    "        return energy.squeeze(0)\n",
    "\n",
    "    def initHidden(self):\n",
    "        return torch.zeros(1, 1, self.hidden_size, device=device)"
   ]
  },
  {
   "cell_type": "code",
   "execution_count": 17,
   "metadata": {},
   "outputs": [
    {
     "name": "stdout",
     "output_type": "stream",
     "text": [
      "Decoder created\n"
     ]
    }
   ],
   "source": [
    "hidden_size = 256\n",
    "encoder = EncoderRNN(input_lang.n_words, 1, hidden_size).to(device)\n",
    "decoder = AttnDecoder(hidden_size, 1, output_lang.n_words, dropout_p=0.1).to(device)"
   ]
  },
  {
   "cell_type": "code",
   "execution_count": 45,
   "metadata": {},
   "outputs": [
    {
     "name": "stdout",
     "output_type": "stream",
     "text": [
      "Decoder created\n"
     ]
    }
   ],
   "source": [
    "encoder = load_state(EncoderRNN, (input_lang.n_words, 1, hidden_size) ,'./models/encoder_state_v1_1_2')\n",
    "decoder = load_state(AttnDecoder, (hidden_size, 1, output_lang.n_words, 0.1), './models/decoder_state_v1_1_2')\n",
    "encoder = encoder.to(device)\n",
    "decoder = decoder.to(device)"
   ]
  },
  {
   "cell_type": "code",
   "execution_count": 18,
   "metadata": {},
   "outputs": [],
   "source": [
    "teacher_forcing_ratio = 1.\n",
    "learning_rate=0.001\n",
    "decoder.parameters()\n",
    "optimizer = optim.Adam(list(encoder.parameters())+list(decoder.parameters()), lr=learning_rate)\n",
    "criterion = nn.NLLLoss()"
   ]
  },
  {
   "cell_type": "markdown",
   "metadata": {},
   "source": [
    "### Запустим тренировку и evaluation"
   ]
  },
  {
   "cell_type": "code",
   "execution_count": 19,
   "metadata": {},
   "outputs": [
    {
     "name": "stdout",
     "output_type": "stream",
     "text": [
      "Train\n",
      "1m 30s (- 199m 23s) (1500 0%) 3.0765\n",
      "2m 58s (- 194m 54s) (3000 1%) 2.6112\n",
      "4m 19s (- 187m 58s) (4500 2%) 2.3939\n",
      "5m 44s (- 185m 46s) (6000 3%) 2.2446\n",
      "7m 5s (- 181m 50s) (7500 3%) 2.1462\n",
      "8m 25s (- 178m 52s) (9000 4%) 2.0599\n",
      "9m 45s (- 176m 4s) (10500 5%) 1.9531\n",
      "11m 12s (- 175m 43s) (12000 6%) 1.8534\n",
      "12m 38s (- 174m 34s) (13500 6%) 1.8387\n",
      "14m 11s (- 174m 59s) (15000 7%) 1.8010\n",
      "15m 45s (- 175m 20s) (16500 8%) 1.7861\n",
      "17m 19s (- 175m 13s) (18000 9%) 1.7106\n",
      "18m 52s (- 174m 46s) (19500 9%) 1.6827\n",
      "20m 23s (- 173m 49s) (21000 10%) 1.6152\n",
      "21m 56s (- 173m 6s) (22500 11%) 1.5901\n",
      "23m 26s (- 171m 55s) (24000 12%) 1.5181\n",
      "24m 57s (- 170m 48s) (25500 12%) 1.5502\n",
      "26m 27s (- 169m 30s) (27000 13%) 1.5188\n",
      "27m 53s (- 167m 52s) (28500 14%) 1.4685\n",
      "29m 20s (- 166m 16s) (30000 15%) 1.4288\n",
      "30m 50s (- 164m 57s) (31500 15%) 1.4164\n",
      "32m 8s (- 162m 41s) (33000 16%) 1.3768\n",
      "33m 21s (- 160m 1s) (34500 17%) 1.3654\n",
      "34m 35s (- 157m 36s) (36000 18%) 1.2839\n",
      "35m 47s (- 155m 7s) (37500 18%) 1.3097\n",
      "37m 5s (- 153m 7s) (39000 19%) 1.3577\n",
      "38m 33s (- 151m 51s) (40500 20%) 1.3165\n",
      "40m 2s (- 150m 39s) (42000 21%) 1.3010\n",
      "41m 30s (- 149m 18s) (43500 21%) 1.2444\n",
      "43m 4s (- 148m 23s) (45000 22%) 1.2844\n",
      "44m 40s (- 147m 28s) (46500 23%) 1.2166\n",
      "46m 9s (- 146m 9s) (48000 24%) 1.2032\n",
      "47m 37s (- 144m 48s) (49500 24%) 1.2017\n",
      "49m 8s (- 143m 33s) (51000 25%) 1.1707\n",
      "50m 37s (- 142m 14s) (52500 26%) 1.0966\n",
      "52m 5s (- 140m 49s) (54000 27%) 1.1208\n",
      "53m 36s (- 139m 35s) (55500 27%) 1.1148\n",
      "55m 4s (- 138m 10s) (57000 28%) 1.1302\n",
      "56m 34s (- 136m 50s) (58500 29%) 1.0903\n",
      "58m 5s (- 135m 33s) (60000 30%) 1.1289\n",
      "59m 39s (- 134m 21s) (61500 30%) 1.0550\n",
      "61m 11s (- 133m 4s) (63000 31%) 1.1019\n",
      "62m 37s (- 131m 33s) (64500 32%) 1.0348\n",
      "63m 51s (- 129m 39s) (66000 33%) 1.0360\n",
      "65m 4s (- 127m 43s) (67500 33%) 1.0614\n",
      "66m 13s (- 125m 44s) (69000 34%) 1.0557\n",
      "67m 22s (- 123m 45s) (70500 35%) 0.9899\n",
      "68m 31s (- 121m 49s) (72000 36%) 1.0300\n",
      "69m 44s (- 120m 2s) (73500 36%) 0.9987\n",
      "70m 54s (- 118m 11s) (75000 37%) 1.0098\n",
      "72m 3s (- 116m 19s) (76500 38%) 0.9741\n",
      "73m 11s (- 114m 28s) (78000 39%) 0.9499\n",
      "74m 23s (- 112m 44s) (79500 39%) 0.9320\n",
      "75m 38s (- 111m 7s) (81000 40%) 0.9456\n",
      "76m 57s (- 109m 35s) (82500 41%) 0.9102\n",
      "78m 18s (- 108m 9s) (84000 42%) 0.9325\n",
      "79m 39s (- 106m 40s) (85500 42%) 0.8879\n",
      "80m 46s (- 104m 55s) (87000 43%) 0.8896\n",
      "81m 38s (- 102m 51s) (88500 44%) 0.8695\n",
      "82m 37s (- 100m 59s) (90000 45%) 0.8898\n",
      "83m 34s (- 99m 6s) (91500 45%) 0.8466\n",
      "84m 21s (- 97m 3s) (93000 46%) 0.8631\n",
      "85m 10s (- 95m 5s) (94500 47%) 0.8333\n",
      "86m 3s (- 93m 14s) (96000 48%) 0.8404\n",
      "86m 51s (- 91m 18s) (97500 48%) 0.8247\n",
      "87m 38s (- 89m 24s) (99000 49%) 0.8404\n",
      "88m 28s (- 87m 35s) (100500 50%) 0.8759\n",
      "89m 19s (- 85m 49s) (102000 51%) 0.7851\n",
      "90m 11s (- 84m 5s) (103500 51%) 0.8845\n",
      "90m 59s (- 82m 19s) (105000 52%) 0.7735\n",
      "91m 50s (- 80m 38s) (106500 53%) 0.8109\n",
      "92m 44s (- 78m 59s) (108000 54%) 0.7634\n",
      "93m 36s (- 77m 21s) (109500 54%) 0.7898\n",
      "94m 36s (- 75m 51s) (111000 55%) 0.7719\n",
      "96m 14s (- 74m 50s) (112500 56%) 0.7882\n",
      "97m 11s (- 73m 19s) (114000 56%) 0.7721\n",
      "98m 1s (- 71m 43s) (115500 57%) 0.7244\n",
      "98m 56s (- 70m 11s) (117000 58%) 0.7641\n",
      "99m 45s (- 68m 36s) (118500 59%) 0.7554\n",
      "100m 35s (- 67m 3s) (120000 60%) 0.7278\n",
      "101m 22s (- 65m 29s) (121500 60%) 0.6839\n",
      "102m 7s (- 63m 55s) (123000 61%) 0.7385\n",
      "102m 53s (- 62m 23s) (124500 62%) 0.7190\n",
      "103m 42s (- 60m 54s) (126000 63%) 0.7379\n",
      "104m 34s (- 59m 27s) (127500 63%) 0.7407\n",
      "105m 19s (- 57m 57s) (129000 64%) 0.7061\n",
      "106m 5s (- 56m 30s) (130500 65%) 0.7161\n",
      "106m 52s (- 55m 3s) (132000 66%) 0.6909\n",
      "107m 43s (- 53m 39s) (133500 66%) 0.7093\n",
      "108m 32s (- 52m 15s) (135000 67%) 0.7221\n",
      "109m 22s (- 50m 52s) (136500 68%) 0.7057\n",
      "110m 22s (- 49m 35s) (138000 69%) 0.6805\n",
      "111m 42s (- 48m 26s) (139500 69%) 0.6736\n",
      "113m 0s (- 47m 17s) (141000 70%) 0.6610\n",
      "114m 16s (- 46m 6s) (142500 71%) 0.6825\n",
      "115m 54s (- 45m 4s) (144000 72%) 0.6447\n",
      "117m 29s (- 44m 0s) (145500 72%) 0.6645\n",
      "119m 3s (- 42m 55s) (147000 73%) 0.6682\n",
      "120m 27s (- 41m 46s) (148500 74%) 0.6383\n",
      "121m 48s (- 40m 36s) (150000 75%) 0.6394\n",
      "123m 5s (- 39m 24s) (151500 75%) 0.6437\n",
      "124m 24s (- 38m 12s) (153000 76%) 0.6558\n",
      "125m 42s (- 37m 1s) (154500 77%) 0.6590\n",
      "127m 0s (- 35m 49s) (156000 78%) 0.6547\n",
      "128m 18s (- 34m 37s) (157500 78%) 0.6730\n",
      "129m 38s (- 33m 25s) (159000 79%) 0.6394\n",
      "131m 1s (- 32m 14s) (160500 80%) 0.6037\n",
      "132m 22s (- 31m 3s) (162000 81%) 0.6322\n",
      "133m 39s (- 29m 50s) (163500 81%) 0.6206\n",
      "134m 25s (- 28m 30s) (165000 82%) 0.5924\n",
      "135m 14s (- 27m 12s) (166500 83%) 0.6374\n",
      "136m 2s (- 25m 54s) (168000 84%) 0.6019\n",
      "136m 49s (- 24m 37s) (169500 84%) 0.6006\n",
      "137m 35s (- 23m 20s) (171000 85%) 0.6046\n",
      "138m 23s (- 22m 3s) (172500 86%) 0.5763\n",
      "139m 11s (- 20m 47s) (174000 87%) 0.6113\n",
      "139m 59s (- 19m 32s) (175500 87%) 0.5652\n",
      "140m 46s (- 18m 17s) (177000 88%) 0.5861\n",
      "141m 33s (- 17m 3s) (178500 89%) 0.5747\n",
      "142m 20s (- 15m 48s) (180000 90%) 0.5686\n",
      "143m 7s (- 14m 35s) (181500 90%) 0.5999\n",
      "143m 53s (- 13m 22s) (183000 91%) 0.5756\n",
      "144m 39s (- 12m 9s) (184500 92%) 0.5875\n",
      "145m 28s (- 10m 56s) (186000 93%) 0.5478\n",
      "146m 16s (- 9m 45s) (187500 93%) 0.5714\n",
      "147m 3s (- 8m 33s) (189000 94%) 0.5732\n",
      "147m 52s (- 7m 22s) (190500 95%) 0.5676\n",
      "148m 38s (- 6m 11s) (192000 96%) 0.5974\n",
      "149m 22s (- 5m 1s) (193500 96%) 0.5683\n",
      "150m 9s (- 3m 51s) (195000 97%) 0.5551\n",
      "150m 57s (- 2m 41s) (196500 98%) 0.5419\n",
      "151m 43s (- 1m 31s) (198000 99%) 0.5337\n",
      "152m 31s (- 0m 22s) (199500 99%) 0.5304\n"
     ]
    },
    {
     "data": {
      "text/plain": [
       "<Figure size 432x288 with 0 Axes>"
      ]
     },
     "metadata": {},
     "output_type": "display_data"
    },
    {
     "data": {
      "image/png": "[encoded data removed]",
      "text/plain": [
       "<Figure size 432x288 with 1 Axes>"
      ]
     },
     "metadata": {
      "needs_background": "light"
     },
     "output_type": "display_data"
    }
   ],
   "source": [
    "run_training(encoder, decoder, n_iters, print_every=1500)"
   ]
  },
  {
   "cell_type": "code",
   "execution_count": 20,
   "metadata": {},
   "outputs": [
    {
     "name": "stdout",
     "output_type": "stream",
     "text": [
      "> я не сумасшедший .\n",
      "= i m not the crazy one .\n",
      "< i m not crazy .\n",
      "\n",
      "> мы в одном часовом поясе .\n",
      "= we re in the same time zone .\n",
      "< we re in the same time .\n",
      "\n",
      "> я собираюсь это доказать .\n",
      "= i m going to prove it .\n",
      "< i m going to do that .\n",
      "\n",
      "> они без ума от джаза .\n",
      "= they are crazy about jazz .\n",
      "< they re crazy about that .\n",
      "\n",
      "> ты вдвое сильнее меня .\n",
      "= you re twice as strong as me .\n",
      "< you are twice as strong as me .\n",
      "\n",
      "> вы прощены .\n",
      "= you re forgiven .\n",
      "< you re forgiven .\n",
      "\n",
      "> вы замечательные .\n",
      "= you re wonderful .\n",
      "< you are wonderful .\n",
      "\n",
      "> я не большой любитель баскетбола .\n",
      "= i m not a big fan of basketball .\n",
      "< i m not a big fan of basketball .\n",
      "\n",
      "> я ранена .\n",
      "= i m wounded .\n",
      "< i m wounded .\n",
      "\n",
      "> мне восемнадцать лет .\n",
      "= i m eighteen .\n",
      "< i m eighteen .\n",
      "\n"
     ]
    }
   ],
   "source": [
    "evaluate_randomly(encoder, decoder)"
   ]
  },
  {
   "cell_type": "code",
   "execution_count": 23,
   "metadata": {
    "scrolled": false
   },
   "outputs": [
    {
     "name": "stdout",
     "output_type": "stream",
     "text": [
      "input = ты начинаешь меня раздражать .\n",
      "output = you re beginning to worry me .\n"
     ]
    },
    {
     "data": {
      "image/png": "[encoded data removed]",
      "text/plain": [
       "<Figure size 432x288 with 2 Axes>"
      ]
     },
     "metadata": {
      "needs_background": "light"
     },
     "output_type": "display_data"
    },
    {
     "name": "stdout",
     "output_type": "stream",
     "text": [
      "input = я собираюсь посмотреть фильм ужасов .\n",
      "output = i m going to watch a scary way .\n"
     ]
    },
    {
     "data": {
      "image/png": "[encoded data removed]",
      "text/plain": [
       "<Figure size 432x288 with 2 Axes>"
      ]
     },
     "metadata": {
      "needs_background": "light"
     },
     "output_type": "display_data"
    }
   ],
   "source": [
    "def showAttention(input_sentence, output_words, attentions):\n",
    "    # Set up figure with colorbar\n",
    "    fig = plt.figure()\n",
    "    ax = fig.add_subplot(111)\n",
    "    cax = ax.matshow(attentions.numpy(), cmap='bone')\n",
    "    fig.colorbar(cax)\n",
    "\n",
    "    # Set up axes\n",
    "    ax.set_xticklabels([''] + output_words, rotation=40)\n",
    "    ax.set_yticklabels([''] + input_sentence.split(' ') +\n",
    "                       ['<EOS>'])\n",
    "\n",
    "    # Show label at every tick\n",
    "    ax.xaxis.set_major_locator(ticker.MultipleLocator(1))\n",
    "    ax.yaxis.set_major_locator(ticker.MultipleLocator(1))\n",
    "\n",
    "    plt.show()\n",
    "\n",
    "\n",
    "def evaluateAndShowAttention(input_sentence):\n",
    "    output_words, attentions = evaluate(encoder, decoder, input_sentence)\n",
    "    attentions = torch.cat(attentions).squeeze().cpu()\n",
    "    attentions = attentions.transpose(0, 1)\n",
    "    print('input =', input_sentence)\n",
    "    print('output =', ' '.join(output_words))\n",
    "    showAttention(input_sentence, output_words, attentions)\n",
    "\n",
    "\n",
    "evaluateAndShowAttention(\"ты начинаешь меня раздражать .\")\n",
    "evaluateAndShowAttention(\"я собираюсь посмотреть фильм ужасов .\")"
   ]
  },
  {
   "cell_type": "code",
   "execution_count": 22,
   "metadata": {},
   "outputs": [],
   "source": [
    "save_state(encoder, './models/encoder_state_v1_1_2')\n",
    "save_state(decoder, './models/decoder_state_v1_1_2')"
   ]
  }
 ],
 "metadata": {
  "kernelspec": {
   "display_name": "Python 3",
   "language": "python",
   "name": "python3"
  },
  "language_info": {
   "codemirror_mode": {
    "name": "ipython",
    "version": 3
   },
   "file_extension": ".py",
   "mimetype": "text/x-python",
   "name": "python",
   "nbconvert_exporter": "python",
   "pygments_lexer": "ipython3",
   "version": "3.6.5"
  }
 },
 "nbformat": 4,
 "nbformat_minor": 2
}
