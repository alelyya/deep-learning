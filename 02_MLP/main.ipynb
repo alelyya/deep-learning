{
 "cells": [
  {
   "cell_type": "code",
   "execution_count": 19,
   "metadata": {},
   "outputs": [],
   "source": [
    "import numpy as np\n",
    "import matplotlib.pyplot as plt\n",
    "import pickle\n",
    "%matplotlib inline"
   ]
  },
  {
   "cell_type": "code",
   "execution_count": 20,
   "metadata": {},
   "outputs": [],
   "source": [
    "class OneHotEncoder:\n",
    "    def __init__(self):\n",
    "        self.transform_mapping = np.zeros((10,10))\n",
    "        for i in range(self.transform_mapping.shape[0]):\n",
    "            self.transform_mapping[i][i] = 1.0\n",
    "    def transform(self, y):\n",
    "            return self.transform_mapping[int(y)]            "
   ]
  },
  {
   "cell_type": "code",
   "execution_count": 21,
   "metadata": {},
   "outputs": [],
   "source": [
    "def make_submission(X_test, net, fname=\"my_submission.csv\"):\n",
    "    with open(fname,'w') as fout:\n",
    "        fout.write('Id,Category')\n",
    "        for i in range(X_test.shape[0]):\n",
    "            y_h = net.forward(X_test[i])\n",
    "            y = np.argmax(y_h)\n",
    "            fout.write(\"\\n{},{}\".format(i, int(y)))"
   ]
  },
  {
   "cell_type": "code",
   "execution_count": 22,
   "metadata": {},
   "outputs": [],
   "source": [
    "def compute_acc(X_test, Y_test, net):\n",
    "    acc = 0.0\n",
    "    for i in range(X_test.shape[0]):\n",
    "        y_h = net.forward(X_test[i])\n",
    "        y = np.argmax(y_h)\n",
    "        k = np.where(Y_test[i] == 1)\n",
    "        if(y == k):\n",
    "            acc += 1.0\n",
    "    return acc / Y_test.shape[0]"
   ]
  },
  {
   "cell_type": "code",
   "execution_count": 23,
   "metadata": {},
   "outputs": [],
   "source": [
    "train_data = None\n",
    "test_data = None\n",
    "encoder = OneHotEncoder()\n",
    "with open('data_train.pickle','rb') as fin:\n",
    "    train_data = pickle.load(fin)\n",
    "with open('data_test_no_labels.pickle','rb') as fin:\n",
    "    test_no_labels = pickle.load(fin)\n",
    "\n",
    "X = train_data['data']\n",
    "Y = train_data['target']\n",
    "X_test_norm = test_no_labels['data']"
   ]
  },
  {
   "cell_type": "code",
   "execution_count": 24,
   "metadata": {},
   "outputs": [],
   "source": [
    "X = X.astype('float')\n",
    "mean = np.mean(X, axis = 0)\n",
    "std = np.std(X, axis=0) + 0.001\n",
    "X = (X - mean) / std\n",
    "X_test_norm = (X_test_norm - mean) / std\n"
   ]
  },
  {
   "cell_type": "code",
   "execution_count": 25,
   "metadata": {},
   "outputs": [],
   "source": [
    "from sklearn.cross_validation import train_test_split\n",
    "\n",
    "t = OneHotEncoder()\n",
    "Y_n = np.array([t.transform(i) for i in Y])\n",
    "X_train, X_test, Y_train, Y_test = train_test_split(X, Y_n, test_size=0.33, random_state = 10)"
   ]
  },
  {
   "cell_type": "code",
   "execution_count": 26,
   "metadata": {},
   "outputs": [],
   "source": [
    "class Dense:\n",
    "    def __init__(self, in_size, out_size, rlambda = 0.0):\n",
    "        self.W = np.random.normal(scale=1, size=(out_size, in_size)) * np.sqrt(2/(out_size + in_size))\n",
    "        self.b = np.zeros(out_size)\n",
    "        self.rlambda = rlambda\n",
    "    \n",
    "    def forward(self, x):\n",
    "        self.x = x\n",
    "        return np.dot(self.W, x) + self.b\n",
    "    \n",
    "    def get_reg_loss(self):\n",
    "        return 0.5 * self.rlambda * (np.linalg.norm(self.W, ord='fro') ** 2)\n",
    "    \n",
    "    def backward(self, dz, lr=0.001):\n",
    "        self.dW = np.outer(dz, self.x)\n",
    "        self.db = dz\n",
    "        self.dx = np.matmul(dz, self.W) \n",
    "        if(self.rlambda != 0):\n",
    "            self.dW += self.rlambda * self.W\n",
    "        self.W = self.W - lr * self.dW\n",
    "        self.b = self.b - lr * self.db\n",
    "        return self.dx\n",
    "\n",
    "\n",
    "class Max:\n",
    "    def forward(self, x):\n",
    "        self.x = x\n",
    "        return np.maximum(0, x)\n",
    "    \n",
    "    def backward(self, dz, lr=0.1):\n",
    "        dz[self.x < 0] = 0\n",
    "        return dz\n",
    "    \n",
    "    \n",
    "class Softmax:\n",
    "    def forward(self, x):\n",
    "        self.x = x - np.max(x)\n",
    "        exps = np.exp(self.x)\n",
    "        return exps / np.sum(exps)\n",
    "    \n",
    "    def backward(self, dz, lr=0.001):\n",
    "        sm = self.forward(self.x)\n",
    "        self.lp = (np.eye(sm.shape[0], sm.shape[0]) - sm).T\n",
    "        self.lp2 = sm * self.lp\n",
    "        return np.dot(dz, self.lp2)\n",
    "\n",
    "    \n",
    "class Dropout:\n",
    "    def __init__(self, p = 0.5):\n",
    "        self.p = p\n",
    "        self.train = True\n",
    "    \n",
    "    def set_train(self, train = True):\n",
    "        self.train = train\n",
    "    \n",
    "    def forward(self, x):\n",
    "        if not self.train:\n",
    "            self.mask = np.ones(*x.shape)\n",
    "            return x\n",
    "        self.mask = ( np.random.rand(*x.shape) > self.p ) / (1.0 - self.p) #???\n",
    "        return x * self.mask\n",
    "    \n",
    "    def backward(self, dz, lr=0.001):\n",
    "        return dz * self.mask\n",
    "    \n",
    "    \n",
    "class CrossEntropy:\n",
    "    def forward(self, y_true, y_hat):\n",
    "        self.y_true = y_true\n",
    "        self.y_hat = y_hat\n",
    "        return -np.sum( y_true * np.log(y_hat) )\n",
    "    \n",
    "    def backward(self, dz, lr=0.001):\n",
    "        return dz * -1. * self.y_true / self.y_hat"
   ]
  },
  {
   "cell_type": "code",
   "execution_count": 27,
   "metadata": {},
   "outputs": [],
   "source": [
    "class MnistNet:\n",
    "    def __init__(self, rlambda=0.0):\n",
    "        self.drop1 = Dropout()\n",
    "        self.d1 = Dense(784, 256, rlambda)\n",
    "        self.m1 = Max()\n",
    "        self.d2 = Dense(256, 256, rlambda)\n",
    "        self.m2 = Max()\n",
    "        self.d3 = Dense(256, 128, rlambda)\n",
    "        self.drop2 = Dropout(0.25)\n",
    "        self.m3 = Max()\n",
    "        self.d4 = Dense(128, 32, rlambda)\n",
    "        self.m4 = Max()\n",
    "        self.d5 = Dense(32, 10, rlambda)\n",
    "        self.m5 = Max()\n",
    "        self.s = Softmax()\n",
    "    \n",
    "    def forward(self, x):\n",
    "        x = self.drop1.forward(x)\n",
    "        x = self.d1.forward(x)\n",
    "        x = self.m1.forward(x)\n",
    "        x = self.d2.forward(x)\n",
    "        x = self.m2.forward(x)\n",
    "        x = self.d3.forward(x)\n",
    "        x = self.drop2.forward(x)\n",
    "        x = self.m3.forward(x)\n",
    "        x = self.d4.forward(x)\n",
    "        x = self.m4.forward(x)\n",
    "        x = self.d5.forward(x)\n",
    "        x = self.m5.forward(x)\n",
    "        net = self.s.forward(x)\n",
    "        return net\n",
    "    \n",
    "    def backward(self, dz, lr):\n",
    "        dz = self.s.backward(dz, lr)\n",
    "        dz = self.m5.backward(dz, lr)\n",
    "        dz = self.d5.backward(dz, lr)\n",
    "        dz = self.m4.backward(dz, lr)\n",
    "        dz = self.d4.backward(dz, lr)\n",
    "        dz = self.m3.backward(dz, lr)\n",
    "        dz = self.drop2.backward(dz, lr)\n",
    "        dz = self.d3.backward(dz, lr)\n",
    "        dz = self.m2.backward(dz, lr)\n",
    "        dz = self.d2.backward(dz, lr)\n",
    "        dz = self.m1.backward(dz, lr)\n",
    "        dz = self.d1.backward(dz, lr)\n",
    "        dz = self.drop1.backward(dz, lr)\n",
    "        return dz"
   ]
  },
  {
   "cell_type": "code",
   "execution_count": 28,
   "metadata": {},
   "outputs": [
    {
     "data": {
      "application/vnd.jupyter.widget-view+json": {
       "model_id": "31ee3b512d834d2bada63f688f876314",
       "version_major": 2,
       "version_minor": 0
      },
      "text/plain": [
       "HBox(children=(IntProgress(value=0, max=20), HTML(value='')))"
      ]
     },
     "metadata": {},
     "output_type": "display_data"
    },
    {
     "name": "stdout",
     "output_type": "stream",
     "text": [
      "№0. Train loss|accuracy : 0.90127|92.2729%. Test loss|accuracy: 0.46845|91.4921%\n",
      "№1. Train loss|accuracy : 0.56239|94.6610%. Test loss|accuracy: 0.41039|93.6681%\n",
      "№2. Train loss|accuracy : 0.49534|95.4684%. Test loss|accuracy: 0.3814|94.5512%\n",
      "№3. Train loss|accuracy : 0.4577|96.4463%. Test loss|accuracy: 0.36258|95.5613%\n",
      "№4. Train loss|accuracy : 0.43105|96.7903%. Test loss|accuracy: 0.35008|95.7633%\n",
      "№5. Train loss|accuracy : 0.41465|96.7136%. Test loss|accuracy: 0.35071|95.5960%\n",
      "№6. Train loss|accuracy : 0.39796|97.6347%. Test loss|accuracy: 0.33205|96.6176%\n",
      "№7. Train loss|accuracy : 0.39039|97.5864%. Test loss|accuracy: 0.3361|96.4387%\n",
      "№8. Train loss|accuracy : 0.37357|97.9758%. Test loss|accuracy: 0.32743|96.8831%\n",
      "№9. Train loss|accuracy : 0.37168|97.6546%. Test loss|accuracy: 0.33099|96.4848%\n",
      "№10. Train loss|accuracy : 0.36512|98.3397%. Test loss|accuracy: 0.32273|97.1198%\n",
      "№11. Train loss|accuracy : 0.35548|98.4364%. Test loss|accuracy: 0.31619|97.2872%\n",
      "№12. Train loss|accuracy : 0.34958|98.6752%. Test loss|accuracy: 0.31273|97.4026%\n",
      "№13. Train loss|accuracy : 0.34391|98.7264%. Test loss|accuracy: 0.31703|97.3218%\n",
      "№14. Train loss|accuracy : 0.34109|98.7719%. Test loss|accuracy: 0.3133|97.2756%\n",
      "№15. Train loss|accuracy : 0.33643|98.9168%. Test loss|accuracy: 0.31517|97.3391%\n",
      "№16. Train loss|accuracy : 0.33471|98.9510%. Test loss|accuracy: 0.31136|97.4026%\n",
      "№17. Train loss|accuracy : 0.32811|99.0419%. Test loss|accuracy: 0.31436|97.3853%\n",
      "№18. Train loss|accuracy : 0.3243|99.1357%. Test loss|accuracy: 0.30889|97.5469%\n",
      "№19. Train loss|accuracy : 0.31802|98.9964%. Test loss|accuracy: 0.31391|97.3680%\n"
     ]
    }
   ],
   "source": [
    "import tqdm\n",
    "\n",
    "net = MnistNet(0.0001)\n",
    "loss = CrossEntropy()\n",
    "lr = 0.001\n",
    "\n",
    "loss_train, loss_test, acc_train, acc_test = [], [], [], []\n",
    "for iter in tqdm.tqdm_notebook(range(20)):\n",
    "    l_train = 0.\n",
    "    sh = list(range(X_train.shape[0]))\n",
    "    np.random.shuffle(sh)\n",
    "    net.drop1.train = True\n",
    "    net.drop2.train = True\n",
    "    for i in range(X_train.shape[0]):\n",
    "        x = X_train[sh[i]]\n",
    "        y = Y_train[sh[i]]\n",
    "        y_h = net.forward(x)\n",
    "        L = loss.forward(y, y_h)\n",
    "        l_train += L \n",
    "        dz = loss.backward(1, lr)\n",
    "        dz = net.backward(dz, lr)\n",
    "    l_train /= Y_train.shape[0]\n",
    "    loss_train.append(l_train)\n",
    "    \n",
    "    l_test = 0.\n",
    "    net.drop1.train = False\n",
    "    net.drop2.train = False\n",
    "    for i in range(X_test.shape[0]):\n",
    "        x = X_test[i]\n",
    "        y = Y_test[i]\n",
    "        y_h = net.forward(x)\n",
    "        L = loss.forward(y, y_h)\n",
    "        l_test += L\n",
    "    l_test /= Y_test.shape[0]\n",
    "    loss_test.append(l_test)\n",
    "    \n",
    "    a_train = compute_acc(X_train, Y_train, net)    \n",
    "    a_test = compute_acc(X_test, Y_test, net)\n",
    "    acc_test.append(a_test)\n",
    "    acc_train.append(a_train)\n",
    "    #make_submission(X_test_norm, net, fname='submission_n{}.csv'.format(iter))\n",
    "    fmt = iter, l_train, a_train, l_test, a_test\n",
    "    print(\"№{}. Train loss|accuracy : {:.5}|{:.4%}. Test loss|accuracy: {:.5}|{:.4%}\".format(*fmt))\n",
    "    "
   ]
  },
  {
   "cell_type": "code",
   "execution_count": 29,
   "metadata": {},
   "outputs": [
    {
     "data": {
      "text/plain": [
       "<matplotlib.legend.Legend at 0x3a21e93dd8>"
      ]
     },
     "execution_count": 29,
     "metadata": {},
     "output_type": "execute_result"
    },
    {
     "data": {
      "image/png": "[encoded data removed]",
      "text/plain": [
       "<Figure size 432x288 with 1 Axes>"
      ]
     },
     "metadata": {},
     "output_type": "display_data"
    }
   ],
   "source": [
    "plt.grid(True)\n",
    "plt.title('Loss')\n",
    "plt.plot(loss_train, 'y:', label = 'train')\n",
    "plt.plot(loss_test, 'g:', label = 'test')\n",
    "plt.legend()"
   ]
  },
  {
   "cell_type": "code",
   "execution_count": 30,
   "metadata": {},
   "outputs": [
    {
     "data": {
      "text/plain": [
       "<matplotlib.legend.Legend at 0x3a235c03c8>"
      ]
     },
     "execution_count": 30,
     "metadata": {},
     "output_type": "execute_result"
    },
    {
     "data": {
      "image/png": "[encoded data removed]",
      "text/plain": [
       "<Figure size 432x288 with 1 Axes>"
      ]
     },
     "metadata": {},
     "output_type": "display_data"
    }
   ],
   "source": [
    "plt.grid(True)\n",
    "plt.title('Accuracy')\n",
    "plt.plot(acc_train, 'y:', label = 'train')\n",
    "plt.plot(acc_test, 'g:', label = 'test')\n",
    "plt.legend()"
   ]
  },
  {
   "cell_type": "code",
   "execution_count": null,
   "metadata": {},
   "outputs": [],
   "source": [
    "make_submission(X_test_norm, net, fname = \"final_submission.csv\")"
   ]
  }
 ],
 "metadata": {
  "kernelspec": {
   "display_name": "Python 3",
   "language": "python",
   "name": "python3"
  },
  "language_info": {
   "codemirror_mode": {
    "name": "ipython",
    "version": 3
   },
   "file_extension": ".py",
   "mimetype": "text/x-python",
   "name": "python",
   "nbconvert_exporter": "python",
   "pygments_lexer": "ipython3",
   "version": "3.6.5"
  }
 },
 "nbformat": 4,
 "nbformat_minor": 2
}
