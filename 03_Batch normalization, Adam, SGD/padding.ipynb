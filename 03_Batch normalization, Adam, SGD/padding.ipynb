{
 "cells": [
  {
   "cell_type": "code",
   "execution_count": 65,
   "metadata": {},
   "outputs": [
    {
     "name": "stdout",
     "output_type": "stream",
     "text": [
      "tensor([[[ 0.,  0.,  0.,  0.,  0.],\n",
      "         [ 0., -1., -1., -1.,  0.],\n",
      "         [ 0., -1.,  8., -1.,  0.],\n",
      "         [ 0., -1., -1., -1.,  0.],\n",
      "         [ 0.,  0.,  0.,  0.,  0.]],\n",
      "\n",
      "        [[ 0.,  0.,  0.,  0.,  0.],\n",
      "         [ 0., -1., -1., -1.,  0.],\n",
      "         [ 0., -1.,  8., -1.,  0.],\n",
      "         [ 0., -1., -1., -1.,  0.],\n",
      "         [ 0.,  0.,  0.,  0.,  0.]],\n",
      "\n",
      "        [[ 0.,  0.,  0.,  0.,  0.],\n",
      "         [ 0., -1., -1., -1.,  0.],\n",
      "         [ 0., -1.,  8., -1.,  0.],\n",
      "         [ 0., -1., -1., -1.,  0.],\n",
      "         [ 0.,  0.,  0.,  0.,  0.]]])\n"
     ]
    }
   ],
   "source": [
    "import torch\n",
    "tensor = torch.FloatTensor(3,3,3).fill_(-1)\n",
    "tensor[:,1,1] = 8\n",
    "\n",
    "t_c, t_h, t_w = 3, 3 ,3\n",
    "padding_h, padding_w = 1, 1\n",
    "\n",
    "padding = torch.zeros([3, t_h+padding_h*2, t_w+padding_w*2])\n",
    "mask = padding.byte()\n",
    "mask[:, padding_h:padding_h+t_h, padding_w:padding_w+t_w ] = 1\n",
    "padding.masked_scatter_(mask, tensor)\n",
    "print(padding)"
   ]
  },
  {
   "cell_type": "code",
   "execution_count": null,
   "metadata": {},
   "outputs": [],
   "source": []
  }
 ],
 "metadata": {
  "kernelspec": {
   "display_name": "Python 3",
   "language": "python",
   "name": "python3"
  },
  "language_info": {
   "codemirror_mode": {
    "name": "ipython",
    "version": 3
   },
   "file_extension": ".py",
   "mimetype": "text/x-python",
   "name": "python",
   "nbconvert_exporter": "python",
   "pygments_lexer": "ipython3",
   "version": "3.6.5"
  }
 },
 "nbformat": 4,
 "nbformat_minor": 2
}
