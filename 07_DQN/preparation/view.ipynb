{
 "cells": [
  {
   "cell_type": "code",
   "execution_count": 1,
   "metadata": {},
   "outputs": [],
   "source": [
    "import torch"
   ]
  },
  {
   "cell_type": "code",
   "execution_count": 16,
   "metadata": {},
   "outputs": [
    {
     "name": "stdout",
     "output_type": "stream",
     "text": [
      "torch.Size([3, 3, 3])\n",
      "tensor([[  1.,   2.,   3.,   4.,   5.,   6.,   7.,   8.,   9.],\n",
      "        [ 11.,  22.,  33.,  44.,  55.,  66.,  77.,  88.,  99.],\n",
      "        [111., 222., 333., 444., 555., 666., 777., 888., 999.]])\n"
     ]
    }
   ],
   "source": [
    "a = torch.Tensor([[[1, 2, 3], [4, 5, 6], [7, 8, 9]], \n",
    "                 [[11, 22, 33], [44, 55, 66], [77, 88, 99]], \n",
    "                 [[111, 222, 333], [444, 555, 666], [777, 888, 999]]])\n",
    "print(a.shape)\n",
    "b = a.view(a.size(0), -1)\n",
    "print(b)"
   ]
  },
  {
   "cell_type": "code",
   "execution_count": null,
   "metadata": {},
   "outputs": [],
   "source": []
  }
 ],
 "metadata": {
  "kernelspec": {
   "display_name": "Python 3",
   "language": "python",
   "name": "python3"
  },
  "language_info": {
   "codemirror_mode": {
    "name": "ipython",
    "version": 3
   },
   "file_extension": ".py",
   "mimetype": "text/x-python",
   "name": "python",
   "nbconvert_exporter": "python",
   "pygments_lexer": "ipython3",
   "version": "3.6.5"
  }
 },
 "nbformat": 4,
 "nbformat_minor": 2
}
