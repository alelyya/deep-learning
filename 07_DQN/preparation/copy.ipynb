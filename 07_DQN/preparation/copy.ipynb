{
 "cells": [
  {
   "cell_type": "code",
   "execution_count": 25,
   "metadata": {},
   "outputs": [],
   "source": [
    "import torch\n",
    "from collections import deque\n",
    "from copy import deepcopy"
   ]
  },
  {
   "cell_type": "code",
   "execution_count": 26,
   "metadata": {},
   "outputs": [],
   "source": [
    "STATE_SIZE = 4\n",
    "class StateHolder:\n",
    "    def __init__(self, screen):\n",
    "        self.frames = deque(maxlen = STATE_SIZE)\n",
    "        for _ in range(STATE_SIZE):\n",
    "            self.frames.append(screen)\n",
    "        \n",
    "    def reset(self):\n",
    "        self.frames.clear()\n",
    "    \n",
    "    def push(self, frame):\n",
    "        self.frames.append(frame)\n",
    "        \n",
    "    def get(self):\n",
    "        # SLOW - !\n",
    "        # frames = tuple(frame.type(torch.cuda.FloatTensor) for frame in self.frames)\n",
    "        return torch.cat(tuple(self.frames), dim = 0).unsqueeze_(0)"
   ]
  },
  {
   "cell_type": "code",
   "execution_count": 27,
   "metadata": {},
   "outputs": [
    {
     "data": {
      "text/plain": [
       "tensor([[6., 7., 8., 9.]])"
      ]
     },
     "execution_count": 27,
     "metadata": {},
     "output_type": "execute_result"
    }
   ],
   "source": [
    "a = StateHolder(0)\n",
    "for i in range(10):\n",
    "    a.push(torch.Tensor([i]))\n",
    "a.get()"
   ]
  },
  {
   "cell_type": "code",
   "execution_count": 28,
   "metadata": {},
   "outputs": [
    {
     "name": "stdout",
     "output_type": "stream",
     "text": [
      "tensor([[6., 7., 8., 9.]])\n",
      "tensor([[6., 7., 8., 9.]])\n",
      "tensor([[6., 7., 8., 9.]])\n",
      "tensor([[ 7.,  8.,  9., 15.]])\n"
     ]
    }
   ],
   "source": [
    "b = StateHolder(0)\n",
    "for i in range(10):\n",
    "    b.push(torch.Tensor([i]))\n",
    "c = deepcopy(b)\n",
    "print(c.get())\n",
    "print(b.get())\n",
    "\n",
    "b.push(torch.Tensor([15]))\n",
    "\n",
    "print(c.get())\n",
    "print(b.get())"
   ]
  }
 ],
 "metadata": {
  "kernelspec": {
   "display_name": "Python 3",
   "language": "python",
   "name": "python3"
  },
  "language_info": {
   "codemirror_mode": {
    "name": "ipython",
    "version": 3
   },
   "file_extension": ".py",
   "mimetype": "text/x-python",
   "name": "python",
   "nbconvert_exporter": "python",
   "pygments_lexer": "ipython3",
   "version": "3.6.5"
  }
 },
 "nbformat": 4,
 "nbformat_minor": 2
}
