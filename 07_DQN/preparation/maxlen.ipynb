{
 "cells": [
  {
   "cell_type": "code",
   "execution_count": 1,
   "metadata": {},
   "outputs": [],
   "source": [
    "from collections import deque\n",
    "import torch"
   ]
  },
  {
   "cell_type": "code",
   "execution_count": 28,
   "metadata": {},
   "outputs": [],
   "source": [
    "class StateHolder:\n",
    "    def __init__(self):\n",
    "        self.frames = deque(maxlen = 4)\n",
    "        \n",
    "    def reset(self):\n",
    "        self.frames.clear()\n",
    "    \n",
    "    def push(self, frame):\n",
    "        self.frames.append(frame)\n",
    "        \n",
    "    def get(self):\n",
    "        frames = tuple(frame.type(torch.FloatTensor) for frame in self.frames)\n",
    "        return torch.cat(frames, dim = 0)"
   ]
  },
  {
   "cell_type": "code",
   "execution_count": 14,
   "metadata": {},
   "outputs": [
    {
     "name": "stdout",
     "output_type": "stream",
     "text": [
      "deque([tensor([[[ 4.,  8., 12.],\n",
      "         [16., 20., 24.],\n",
      "         [28., 32., 36.]]]), tensor([[[ 5., 10., 15.],\n",
      "         [20., 25., 30.],\n",
      "         [35., 40., 45.]]]), tensor([[[ 6., 12., 18.],\n",
      "         [24., 30., 36.],\n",
      "         [42., 48., 54.]]]), tensor([[[ 7., 14., 21.],\n",
      "         [28., 35., 42.],\n",
      "         [49., 56., 63.]]])], maxlen=4)\n"
     ]
    }
   ],
   "source": [
    "q = deque(maxlen = 4)\n",
    "\n",
    "for i in range(8):\n",
    "    a = torch.Tensor([[[i*1, i*2, i*3], [i*4, i*5, i*6], [i*7, i*8, i*9]]])\n",
    "    q.append(a)\n",
    "    \n",
    "print(q)"
   ]
  },
  {
   "cell_type": "code",
   "execution_count": 29,
   "metadata": {},
   "outputs": [
    {
     "name": "stdout",
     "output_type": "stream",
     "text": [
      "tensor([[[ 4.,  8., 12.],\n",
      "         [16., 20., 24.],\n",
      "         [28., 32., 36.]],\n",
      "\n",
      "        [[ 5., 10., 15.],\n",
      "         [20., 25., 30.],\n",
      "         [35., 40., 45.]],\n",
      "\n",
      "        [[ 6., 12., 18.],\n",
      "         [24., 30., 36.],\n",
      "         [42., 48., 54.]],\n",
      "\n",
      "        [[ 7., 14., 21.],\n",
      "         [28., 35., 42.],\n",
      "         [49., 56., 63.]]])\n"
     ]
    }
   ],
   "source": [
    "s = StateHolder()\n",
    "\n",
    "for i in range(8):\n",
    "    a = torch.Tensor([[[i*1, i*2, i*3], [i*4, i*5, i*6], [i*7, i*8, i*9]]])\n",
    "    s.push(a)\n",
    "\n",
    "print(s.get())"
   ]
  }
 ],
 "metadata": {
  "kernelspec": {
   "display_name": "Python 3",
   "language": "python",
   "name": "python3"
  },
  "language_info": {
   "codemirror_mode": {
    "name": "ipython",
    "version": 3
   },
   "file_extension": ".py",
   "mimetype": "text/x-python",
   "name": "python",
   "nbconvert_exporter": "python",
   "pygments_lexer": "ipython3",
   "version": "3.6.5"
  }
 },
 "nbformat": 4,
 "nbformat_minor": 2
}
