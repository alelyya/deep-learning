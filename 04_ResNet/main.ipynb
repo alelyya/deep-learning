{
 "cells": [
  {
   "cell_type": "code",
   "execution_count": 2,
   "metadata": {},
   "outputs": [],
   "source": [
    "import torch\n",
    "import torch.nn as nn\n",
    "import torch.nn.functional as F"
   ]
  },
  {
   "cell_type": "markdown",
   "metadata": {},
   "source": [
    "Подробности по ДЗ:\n",
    "1. Нужно реализовать флаг make_downsample - увеличивает кол-во фильтров вдвое, размер уменьшается вдвое по высоте и ширине - например (64, 16, 16) -> (128, 8, 8)\n",
    "2. Нужно реализовать флаг use_skip_connection - если он включен, то на выходе блока добавляется X со входа - иначе блок работает как обычная сеть\n",
    "\n",
    "Особенности downsample\n",
    "1. Уменьшать размер входного изображения надо посредством conv3x3 со stride=2\n",
    "2. В Bottleneck версии - кол-во фильтров меняется первым bottleneck слоем\n",
    "\n",
    "Общие рекомендации по построению ResNet сетей:\n",
    "1. После каждой конволюции идет BatchNorm и Relu слои\n",
    "2. В конце ResNet блока после суммирования идет Relu слой\n",
    "3. Конволюциооные слои, включая слои Bottleneck не используют bias (bias=False) - опциональное\n",
    "\n",
    "Блоки строятся на основании статьи https://arxiv.org/abs/1512.03385\n",
    "Tutorial по Pytorch https://pytorch.org/tutorials/beginner/deep_learning_60min_blitz.html"
   ]
  },
  {
   "cell_type": "code",
   "execution_count": 3,
   "metadata": {},
   "outputs": [],
   "source": [
    "from operator import mul\n",
    "from functools import reduce\n",
    "\n",
    "# небольшой код по подсчету памяти и количества параметров в сети\n",
    "MODULES_STAT=[]\n",
    "\n",
    "def module_forward_hook(module, input, output):\n",
    "    weight = module.weight.size() if not isinstance(module, torch.nn.modules.MaxPool2d) else (0, 0, 0, 0)\n",
    "    MODULES_STAT.append((module, output.size(), weight))\n",
    "    \n",
    "def register_hook(module):\n",
    "    for item in module.children(): \n",
    "        if type(item) in [nn.modules.conv.Conv2d, nn.modules.MaxPool2d, nn.modules.Linear]:\n",
    "            print(item)\n",
    "            item.register_forward_hook(module_forward_hook)\n",
    "                 \n",
    "def features_mem_and_params(input_tenzor):\n",
    "    input_size = input_tenzor.size()\n",
    "    total_param = 0\n",
    "    total_mem =  reduce(mul,(input_size))\n",
    "    print( \"%02d\" % 0,\n",
    "          'INPUT',\n",
    "          \"memory\",\n",
    "          \"%dx%dx%d=%d\" % (input_size[1], input_size[2], input_size[3], reduce(mul,(input_size))),\n",
    "          \"parameters\", \"%dx%dx%d=%d\"%(0, 0, 0 , 0)\n",
    "         ) \n",
    "    for i, stat in enumerate(MODULES_STAT):\n",
    "        module_name = str(stat).split('(')[1]\n",
    "        total_param += reduce(mul,(stat[2]))\n",
    "        total_mem   += reduce(mul,(stat[1]))\n",
    "        \n",
    "        if 'Linear' in module_name:\n",
    "            print( \"%02d\"%(i+1),'FC',\"memory\", \"%dx%d=%d\"%(stat[1][0], stat[1][1], reduce(mul,(stat[1]))),\n",
    "               \"parameters\", \"%dx%d=%d\"%(stat[2][0], stat[2][1] , reduce(mul,(stat[2]))))\n",
    "        else:    \n",
    "            print( \"%02d\"%(i+1),module_name,\"memory\", \"%dx%dx%d=%d\"%(stat[1][1], stat[1][2], stat[1][3], reduce(mul,(stat[1]))),\n",
    "               \"parameters\", \"%dx%dx%dx%d=%d\"%(stat[2][0], stat[2][1], stat[2][2], stat[2][3] , reduce(mul,(stat[2]))))\n",
    "    print()\n",
    "    print (\"Total_mem: %d * 4 = %d\" % (total_mem, total_mem * 4))\n",
    "    print (\"Total params: %d\" % total_param, \"Total_mem: %d\" % total_mem)          \n",
    "    return (total_param, total_mem)"
   ]
  },
  {
   "cell_type": "code",
   "execution_count": 4,
   "metadata": {},
   "outputs": [],
   "source": [
    "DOWNSAMPLE_COEF = 2"
   ]
  },
  {
   "cell_type": "code",
   "execution_count": 5,
   "metadata": {},
   "outputs": [],
   "source": [
    "class CifarResidualBlock(nn.Module):\n",
    "    def __init__(self, a_in_channels, make_downsample=False, use_skip_connection=True):\n",
    "        super(CifarResidualBlock, self).__init__()\n",
    "        self.use_skip_connection = use_skip_connection\n",
    "        \n",
    "        if make_downsample: coef = DOWNSAMPLE_COEF\n",
    "        else: coef = 1  \n",
    "        self.a_in_channels = a_in_channels\n",
    "        self.a_out_channels = a_in_channels * coef\n",
    "        self.coef = coef\n",
    "        \n",
    "        self.conv1 = nn.Conv2d(a_in_channels, self.a_out_channels, kernel_size=3, stride=coef, padding=1)\n",
    "        self.conv2 = nn.Conv2d(self.a_out_channels, self.a_out_channels, kernel_size=3, padding=1)\n",
    "        self.bn = nn.BatchNorm2d(self.a_out_channels)\n",
    "            \n",
    "    def add_padding(self, x):\n",
    "        channel_diff = self.a_out_channels - self.a_in_channels\n",
    "        x = F.pad(x, (0, 0, 0, 0, 0, channel_diff))\n",
    "        return x[:,:,::self.coef,::self.coef]\n",
    "    \n",
    "    def forward(self, x):\n",
    "        x_temp = x\n",
    "        x = F.relu(self.bn(self.conv1(x)))\n",
    "        x = F.relu(self.bn(self.conv2(x)))\n",
    "        if self.use_skip_connection:\n",
    "            return F.relu(x + self.add_padding(x_temp))\n",
    "        return F.relu(x)"
   ]
  },
  {
   "cell_type": "code",
   "execution_count": 16,
   "metadata": {},
   "outputs": [],
   "source": [
    "class CifarResidualBottleneckBlock(nn.Module):\n",
    "    \n",
    "    BOTTLENECK_COEF = 4\n",
    "    \n",
    "    def __init__(self, a_in_channels, make_downsample=False, use_skip_connection=True):\n",
    "        super(CifarResidualBottleneckBlock, self).__init__()\n",
    "        self.use_skip_connection = use_skip_connection\n",
    "        self.make_downsample = make_downsample\n",
    "        \n",
    "        if make_downsample:\n",
    "            coef = DOWNSAMPLE_COEF\n",
    "        else: coef = 1\n",
    "            \n",
    "        self.a_in_channels = a_in_channels\n",
    "        self.a_out_channels = a_in_channels * coef\n",
    "        self.bottleneck_channels = self.a_out_channels // CifarResidualBottleneckBlock.BOTTLENECK_COEF\n",
    "        self.coef = coef\n",
    "        \n",
    "        self.conv1 = nn.Conv2d(self.a_in_channels, self.bottleneck_channels, kernel_size=1)\n",
    "        self.conv2 = nn.Conv2d(self.bottleneck_channels, self.bottleneck_channels, kernel_size=3, stride=coef, padding=1)\n",
    "        self.conv3 = nn.Conv2d(self.bottleneck_channels, self.a_out_channels, kernel_size=1)\n",
    "        self.bn1 = nn.BatchNorm2d(self.bottleneck_channels)\n",
    "        self.bn2 = nn.BatchNorm2d(self.a_out_channels)\n",
    "        \n",
    "        if make_downsample:\n",
    "            self.conv0 = nn.Conv2d(self.a_in_channels, self.a_out_channels, kernel_size=1, stride=coef)\n",
    "    \n",
    "    def add_padding(self, x):\n",
    "        channel_diff = self.a_out_channels - self.a_in_channels\n",
    "        x = F.pad(x, (0, 0, 0, 0, 0, channel_diff))\n",
    "        return x[:,:,::self.coef,::self.coef]\n",
    "                \n",
    "    def forward(self, x):\n",
    "        x_temp = x\n",
    "        x = F.relu(self.bn1(self.conv1(x)))\n",
    "        x = F.relu(self.bn1(self.conv2(x)))\n",
    "        x = F.relu(self.bn2(self.conv3(x)))\n",
    "        if self.use_skip_connection:\n",
    "            if self.make_downsample:\n",
    "                x_temp = self.conv0(x_temp)\n",
    "            x += x_temp\n",
    "        return F.relu(x)"
   ]
  },
  {
   "cell_type": "code",
   "execution_count": 7,
   "metadata": {},
   "outputs": [
    {
     "name": "stdout",
     "output_type": "stream",
     "text": [
      "Input size :\t\t torch.Size([1, 3, 32, 32])\n",
      "After first layers:\t torch.Size([1, 16, 32, 32])\n",
      "After ResBlock layers:\t torch.Size([1, 16, 32, 32])\n"
     ]
    }
   ],
   "source": [
    "### Test 1\n",
    "x = torch.ones(1, 3, 32, 32)*100\n",
    "print(\"Input size :\\t\\t\", x.size())\n",
    "\n",
    "first_conv = nn.Conv2d(3, 16, 3, padding=1, bias=False)\n",
    "x = first_conv(x)\n",
    "print(\"After first layers:\\t\", x.size())\n",
    "\n",
    "block = CifarResidualBlock(16, make_downsample=False, use_skip_connection=True)\n",
    "x = block(x)\n",
    "print(\"After ResBlock layers:\\t\", x.size())\n",
    "\n",
    "assert(x.size() == torch.Size((1, 16, 32, 32)))"
   ]
  },
  {
   "cell_type": "code",
   "execution_count": 8,
   "metadata": {},
   "outputs": [
    {
     "name": "stdout",
     "output_type": "stream",
     "text": [
      "Input size :\t\t torch.Size([1, 3, 32, 32])\n",
      "After first layers:\t torch.Size([1, 16, 32, 32])\n",
      "After ResBlock layers:\t torch.Size([1, 32, 16, 16])\n"
     ]
    }
   ],
   "source": [
    "### Test 2\n",
    "x = torch.ones(1, 3, 32, 32)*100\n",
    "print(\"Input size :\\t\\t\", x.size())\n",
    "\n",
    "first_conv = nn.Conv2d(3, 16, 3, padding=1, bias=False)\n",
    "x = first_conv(x)\n",
    "print(\"After first layers:\\t\", x.size())\n",
    "\n",
    "block = CifarResidualBlock(16, make_downsample=True, use_skip_connection=True)\n",
    "x = block(x)\n",
    "print(\"After ResBlock layers:\\t\", x.size())\n",
    "\n",
    "assert(x.size() == torch.Size((1, 32, 16, 16)))"
   ]
  },
  {
   "cell_type": "code",
   "execution_count": 9,
   "metadata": {},
   "outputs": [
    {
     "name": "stdout",
     "output_type": "stream",
     "text": [
      "16384 tensor(18199.1309, grad_fn=<SumBackward0>)\n"
     ]
    }
   ],
   "source": [
    "### Test 3\n",
    "x = torch.ones(1, 16, 32, 32)\n",
    "block = CifarResidualBlock(16, make_downsample=False, use_skip_connection=True)\n",
    "x = block(x)\n",
    "print(x.size()[1]*x.size()[2]*x.size()[3], x.sum())\n",
    "assert(x.sum() > 10000)"
   ]
  },
  {
   "cell_type": "code",
   "execution_count": 10,
   "metadata": {},
   "outputs": [
    {
     "name": "stdout",
     "output_type": "stream",
     "text": [
      "16384 tensor(2218.2639, grad_fn=<SumBackward0>)\n"
     ]
    }
   ],
   "source": [
    "### Test 4\n",
    "x = torch.ones(1, 16, 32, 32)\n",
    "block = CifarResidualBlock(16, make_downsample=False, use_skip_connection=False)\n",
    "x = block(x)\n",
    "print(x.size()[1]*x.size()[2]*x.size()[3], x.sum())\n",
    "assert(x.sum() < 5000)"
   ]
  },
  {
   "cell_type": "code",
   "execution_count": 11,
   "metadata": {},
   "outputs": [
    {
     "name": "stdout",
     "output_type": "stream",
     "text": [
      "Conv2d(256, 256, kernel_size=(3, 3), stride=(1, 1), padding=(1, 1))\n",
      "Conv2d(256, 256, kernel_size=(3, 3), stride=(1, 1), padding=(1, 1))\n",
      "00 INPUT memory 256x8x8=16384 parameters 0x0x0=0\n",
      "01 Conv2d memory 256x8x8=16384 parameters 256x256x3x3=589824\n",
      "02 Conv2d memory 256x8x8=16384 parameters 256x256x3x3=589824\n",
      "\n",
      "Total_mem: 49152 * 4 = 196608\n",
      "Total params: 1179648 Total_mem: 49152\n"
     ]
    }
   ],
   "source": [
    "### Test 5\n",
    "\n",
    "MODULES_STAT=[]\n",
    "\n",
    "input = torch.ones(1, 256, 8, 8)\n",
    "block = CifarResidualBlock(256, make_downsample=False, use_skip_connection=True)\n",
    "register_hook(block)\n",
    "out = block(input)\n",
    "\n",
    "params, memory = features_mem_and_params(input)\n",
    "assert((params, memory) == (1179648, 49152))"
   ]
  },
  {
   "cell_type": "code",
   "execution_count": 12,
   "metadata": {},
   "outputs": [
    {
     "name": "stdout",
     "output_type": "stream",
     "text": [
      "Conv2d(256, 512, kernel_size=(3, 3), stride=(2, 2), padding=(1, 1))\n",
      "Conv2d(512, 512, kernel_size=(3, 3), stride=(1, 1), padding=(1, 1))\n",
      "00 INPUT memory 256x8x8=16384 parameters 0x0x0=0\n",
      "01 Conv2d memory 512x4x4=8192 parameters 512x256x3x3=1179648\n",
      "02 Conv2d memory 512x4x4=8192 parameters 512x512x3x3=2359296\n",
      "\n",
      "Total_mem: 32768 * 4 = 131072\n",
      "Total params: 3538944 Total_mem: 32768\n",
      "3538944 32768\n"
     ]
    }
   ],
   "source": [
    "### Test 6\n",
    "\n",
    "MODULES_STAT=[]\n",
    "\n",
    "input = torch.ones(1, 256, 8, 8)\n",
    "block = CifarResidualBlock(256, make_downsample=True, use_skip_connection=False)\n",
    "register_hook(block)\n",
    "out = block(input)\n",
    "\n",
    "params, memory = features_mem_and_params(input)\n",
    "print(params, memory)\n",
    "assert((params, memory) == (3538944, 32768))"
   ]
  },
  {
   "cell_type": "code",
   "execution_count": 13,
   "metadata": {},
   "outputs": [
    {
     "name": "stdout",
     "output_type": "stream",
     "text": [
      "Conv2d(256, 64, kernel_size=(1, 1), stride=(1, 1))\n",
      "Conv2d(64, 64, kernel_size=(3, 3), stride=(1, 1), padding=(1, 1))\n",
      "Conv2d(64, 256, kernel_size=(1, 1), stride=(1, 1))\n",
      "00 INPUT memory 256x8x8=16384 parameters 0x0x0=0\n",
      "01 Conv2d memory 64x8x8=4096 parameters 64x256x1x1=16384\n",
      "02 Conv2d memory 64x8x8=4096 parameters 64x64x3x3=36864\n",
      "03 Conv2d memory 256x8x8=16384 parameters 256x64x1x1=16384\n",
      "\n",
      "Total_mem: 40960 * 4 = 163840\n",
      "Total params: 69632 Total_mem: 40960\n"
     ]
    }
   ],
   "source": [
    "### Test 7\n",
    "\n",
    "MODULES_STAT=[]\n",
    "\n",
    "input = torch.ones(1, 256, 8, 8)\n",
    "block = CifarResidualBottleneckBlock(256, use_skip_connection=True)\n",
    "register_hook(block)\n",
    "out = block(input)\n",
    "\n",
    "params, memory = features_mem_and_params(input)\n",
    "assert((params, memory) == (69632, 40960))"
   ]
  },
  {
   "cell_type": "code",
   "execution_count": 17,
   "metadata": {},
   "outputs": [
    {
     "name": "stdout",
     "output_type": "stream",
     "text": [
      "Conv2d(256, 128, kernel_size=(1, 1), stride=(1, 1))\n",
      "Conv2d(128, 128, kernel_size=(3, 3), stride=(2, 2), padding=(1, 1))\n",
      "Conv2d(128, 512, kernel_size=(1, 1), stride=(1, 1))\n",
      "Conv2d(256, 512, kernel_size=(1, 1), stride=(2, 2))\n",
      "00 INPUT memory 256x8x8=16384 parameters 0x0x0=0\n",
      "01 Conv2d memory 128x8x8=8192 parameters 128x256x1x1=32768\n",
      "02 Conv2d memory 128x4x4=2048 parameters 128x128x3x3=147456\n",
      "03 Conv2d memory 512x4x4=8192 parameters 512x128x1x1=65536\n",
      "04 Conv2d memory 512x4x4=8192 parameters 512x256x1x1=131072\n",
      "\n",
      "Total_mem: 43008 * 4 = 172032\n",
      "Total params: 376832 Total_mem: 43008\n"
     ]
    }
   ],
   "source": [
    "### Test 8\n",
    "\n",
    "MODULES_STAT=[]\n",
    "\n",
    "input = torch.ones(1, 256, 8, 8)\n",
    "block = CifarResidualBottleneckBlock(256, make_downsample=True, use_skip_connection=True)\n",
    "register_hook(block)\n",
    "out = block(input)\n",
    "params, memory = features_mem_and_params(input)\n",
    "assert((params, memory) == (376832, 43008))"
   ]
  },
  {
   "cell_type": "code",
   "execution_count": 18,
   "metadata": {},
   "outputs": [
    {
     "name": "stdout",
     "output_type": "stream",
     "text": [
      "Conv2d(256, 512, kernel_size=(3, 3), stride=(2, 2), padding=(1, 1))\n",
      "Conv2d(512, 512, kernel_size=(3, 3), stride=(1, 1), padding=(1, 1))\n",
      "00 INPUT memory 256x8x8=16384 parameters 0x0x0=0\n",
      "01 Conv2d memory 512x4x4=8192 parameters 512x256x3x3=1179648\n",
      "02 Conv2d memory 512x4x4=8192 parameters 512x512x3x3=2359296\n",
      "\n",
      "Total_mem: 32768 * 4 = 131072\n",
      "Total params: 3538944 Total_mem: 32768\n",
      "3538944 32768\n"
     ]
    },
    {
     "ename": "AssertionError",
     "evalue": "",
     "output_type": "error",
     "traceback": [
      "\u001b[1;31m---------------------------------------------------------------------------\u001b[0m",
      "\u001b[1;31mAssertionError\u001b[0m                            Traceback (most recent call last)",
      "\u001b[1;32m<ipython-input-18-7e98c9ecdc03>\u001b[0m in \u001b[0;36m<module>\u001b[1;34m()\u001b[0m\n\u001b[0;32m      9\u001b[0m \u001b[0mparams\u001b[0m\u001b[1;33m,\u001b[0m \u001b[0mmemory\u001b[0m \u001b[1;33m=\u001b[0m \u001b[0mfeatures_mem_and_params\u001b[0m\u001b[1;33m(\u001b[0m\u001b[0minput\u001b[0m\u001b[1;33m)\u001b[0m\u001b[1;33m\u001b[0m\u001b[0m\n\u001b[0;32m     10\u001b[0m \u001b[0mprint\u001b[0m\u001b[1;33m(\u001b[0m\u001b[0mparams\u001b[0m\u001b[1;33m,\u001b[0m \u001b[0mmemory\u001b[0m\u001b[1;33m)\u001b[0m\u001b[1;33m\u001b[0m\u001b[0m\n\u001b[1;32m---> 11\u001b[1;33m \u001b[1;32massert\u001b[0m\u001b[1;33m(\u001b[0m\u001b[1;33m(\u001b[0m\u001b[0mparams\u001b[0m\u001b[1;33m,\u001b[0m \u001b[0mmemory\u001b[0m\u001b[1;33m)\u001b[0m \u001b[1;33m==\u001b[0m \u001b[1;33m(\u001b[0m\u001b[1;36m3670016\u001b[0m\u001b[1;33m,\u001b[0m \u001b[1;36m40960\u001b[0m\u001b[1;33m)\u001b[0m\u001b[1;33m)\u001b[0m\u001b[1;33m\u001b[0m\u001b[0m\n\u001b[0m",
      "\u001b[1;31mAssertionError\u001b[0m: "
     ]
    }
   ],
   "source": [
    "### Test 9\n",
    "\n",
    "MODULES_STAT=[]\n",
    "\n",
    "input = torch.ones(1, 256, 8, 8)\n",
    "block = CifarResidualBlock(256, make_downsample=True, use_skip_connection=True)\n",
    "register_hook(block)\n",
    "out = block(input)\n",
    "params, memory = features_mem_and_params(input)\n",
    "print(params, memory)\n",
    "assert((params, memory) == (3670016, 40960))"
   ]
  }
 ],
 "metadata": {
  "kernelspec": {
   "display_name": "Python 3",
   "language": "python",
   "name": "python3"
  },
  "language_info": {
   "codemirror_mode": {
    "name": "ipython",
    "version": 3
   },
   "file_extension": ".py",
   "mimetype": "text/x-python",
   "name": "python",
   "nbconvert_exporter": "python",
   "pygments_lexer": "ipython3",
   "version": "3.6.5"
  }
 },
 "nbformat": 4,
 "nbformat_minor": 1
}
